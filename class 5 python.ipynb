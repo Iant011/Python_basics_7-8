{
 "cells": [
  {
   "cell_type": "code",
   "execution_count": 4,
   "id": "806e959a",
   "metadata": {},
   "outputs": [],
   "source": [
    "s = 'This is basic python class'"
   ]
  },
  {
   "cell_type": "code",
   "execution_count": 5,
   "id": "c2113a2a",
   "metadata": {},
   "outputs": [
    {
     "data": {
      "text/plain": [
       "26"
      ]
     },
     "execution_count": 5,
     "metadata": {},
     "output_type": "execute_result"
    }
   ],
   "source": [
    "len(s)"
   ]
  },
  {
   "cell_type": "code",
   "execution_count": 6,
   "id": "deda6634",
   "metadata": {},
   "outputs": [
    {
     "name": "stdout",
     "output_type": "stream",
     "text": [
      "26\n"
     ]
    }
   ],
   "source": [
    "count = 0\n",
    "for i in s :\n",
    "    \n",
    "    count = count + 1\n",
    "print(count)"
   ]
  },
  {
   "cell_type": "code",
   "execution_count": 7,
   "id": "c2f5fbac",
   "metadata": {},
   "outputs": [
    {
     "data": {
      "text/plain": [
       "'ssalc nohtyp cisab si sihT'"
      ]
     },
     "execution_count": 7,
     "metadata": {},
     "output_type": "execute_result"
    }
   ],
   "source": [
    "s[::-1]"
   ]
  },
  {
   "cell_type": "code",
   "execution_count": 10,
   "id": "0ddc6863",
   "metadata": {},
   "outputs": [
    {
     "name": "stdout",
     "output_type": "stream",
     "text": [
      "s\n",
      "s\n",
      "a\n",
      "l\n",
      "c\n",
      " \n",
      "n\n",
      "o\n",
      "h\n",
      "t\n",
      "y\n",
      "p\n",
      " \n",
      "c\n",
      "i\n",
      "s\n",
      "a\n",
      "b\n",
      " \n",
      "s\n",
      "i\n",
      " \n",
      "s\n",
      "i\n",
      "h\n",
      "T\n"
     ]
    }
   ],
   "source": [
    "for i in range(len(s)-1,-1,-1): #reverse order\n",
    "    print(s[i])"
   ]
  },
  {
   "cell_type": "code",
   "execution_count": 12,
   "id": "dd6b2f52",
   "metadata": {},
   "outputs": [
    {
     "data": {
      "text/plain": [
       "'This is basic python class'"
      ]
     },
     "execution_count": 12,
     "metadata": {},
     "output_type": "execute_result"
    }
   ],
   "source": [
    "s"
   ]
  },
  {
   "cell_type": "code",
   "execution_count": 13,
   "id": "6c40caa6",
   "metadata": {},
   "outputs": [
    {
     "name": "stdout",
     "output_type": "stream",
     "text": [
      "25\n"
     ]
    }
   ],
   "source": [
    "i = len(s)-1       \n",
    "print(i)"
   ]
  },
  {
   "cell_type": "code",
   "execution_count": 15,
   "id": "19f2d781",
   "metadata": {},
   "outputs": [
    {
     "name": "stdout",
     "output_type": "stream",
     "text": [
      "ssalc nohtyp cisab si s"
     ]
    }
   ],
   "source": [
    "i = len(s)-1            #withount using for loop\n",
    "while i >= 3 :\n",
    "    print(s[i], end = '')\n",
    "    i = i-1"
   ]
  },
  {
   "cell_type": "code",
   "execution_count": 16,
   "id": "8bedfa80",
   "metadata": {},
   "outputs": [],
   "source": [
    "s = 'sohail'\n",
    "v = 'AaEeIiOoUu'"
   ]
  },
  {
   "cell_type": "code",
   "execution_count": 18,
   "id": "a739e167",
   "metadata": {},
   "outputs": [
    {
     "name": "stdout",
     "output_type": "stream",
     "text": [
      "Not vowel s\n",
      "vowel o\n",
      "Not vowel h\n",
      "vowel a\n",
      "vowel i\n",
      "Not vowel l\n"
     ]
    }
   ],
   "source": [
    "for i in s:\n",
    "    if i in v:\n",
    "        print('vowel', i)\n",
    "    else :\n",
    "        print('Not vowel', i)"
   ]
  },
  {
   "cell_type": "code",
   "execution_count": null,
   "id": "e4b6d88e",
   "metadata": {},
   "outputs": [],
   "source": []
  },
  {
   "cell_type": "code",
   "execution_count": 26,
   "id": "00b78eda",
   "metadata": {},
   "outputs": [
    {
     "data": {
      "text/plain": [
       "[]"
      ]
     },
     "execution_count": 26,
     "metadata": {},
     "output_type": "execute_result"
    }
   ],
   "source": [
    "z"
   ]
  },
  {
   "cell_type": "code",
   "execution_count": 20,
   "id": "2b6120ea",
   "metadata": {},
   "outputs": [
    {
     "data": {
      "text/plain": [
       "True"
      ]
     },
     "execution_count": 20,
     "metadata": {},
     "output_type": "execute_result"
    }
   ],
   "source": [
    "'v' in 'vvb'"
   ]
  },
  {
   "cell_type": "code",
   "execution_count": 22,
   "id": "891921d0",
   "metadata": {},
   "outputs": [
    {
     "data": {
      "text/plain": [
       "False"
      ]
     },
     "execution_count": 22,
     "metadata": {},
     "output_type": "execute_result"
    }
   ],
   "source": [
    "'h' in 'ram'"
   ]
  },
  {
   "cell_type": "code",
   "execution_count": 2,
   "id": "5980d479",
   "metadata": {},
   "outputs": [
    {
     "name": "stdout",
     "output_type": "stream",
     "text": [
      "eye\n",
      "Palendrome eye\n"
     ]
    }
   ],
   "source": [
    "s = input()\n",
    "v = s[::-1]\n",
    "if s ==v:\n",
    "    print('Palendrome', s)\n",
    "else :\n",
    "    print(s, 'is not palendrome')"
   ]
  },
  {
   "cell_type": "code",
   "execution_count": 37,
   "id": "30c00db2",
   "metadata": {},
   "outputs": [],
   "source": [
    "d = {'India': 'IN', 'Pakistan': 'PK', 'China': 'CH'}"
   ]
  },
  {
   "cell_type": "code",
   "execution_count": 38,
   "id": "fd12c58b",
   "metadata": {},
   "outputs": [
    {
     "data": {
      "text/plain": [
       "True"
      ]
     },
     "execution_count": 38,
     "metadata": {},
     "output_type": "execute_result"
    }
   ],
   "source": [
    "'India' in d"
   ]
  },
  {
   "cell_type": "code",
   "execution_count": 45,
   "id": "94357e25",
   "metadata": {},
   "outputs": [
    {
     "name": "stdout",
     "output_type": "stream",
     "text": [
      "India\n",
      "Yes\n"
     ]
    }
   ],
   "source": [
    "a = input()\n",
    "for i in d:\n",
    "    \n",
    "    if a in d:\n",
    "        \n",
    "        print('Yes')\n",
    "    \n",
    "    \n",
    "       \n",
    "    else :\n",
    "        print('Not matching with country')\n",
    "    break\n",
    "    \n",
    "        \n",
    "        \n",
    "        "
   ]
  },
  {
   "cell_type": "code",
   "execution_count": 46,
   "id": "7aa63ba9",
   "metadata": {},
   "outputs": [
    {
     "data": {
      "text/plain": [
       "{'India': 'IN', 'Pakistan': 'PK', 'China': 'CH'}"
      ]
     },
     "execution_count": 46,
     "metadata": {},
     "output_type": "execute_result"
    }
   ],
   "source": [
    "d"
   ]
  },
  {
   "cell_type": "code",
   "execution_count": 50,
   "id": "27e60c08",
   "metadata": {},
   "outputs": [
    {
     "name": "stdout",
     "output_type": "stream",
     "text": [
      "India\n",
      "China\n"
     ]
    }
   ],
   "source": [
    "l_greater = []\n",
    "l_smaller = []\n",
    "for i in d:\n",
    "    if len(i)<=5:\n",
    "        l_smaller.append(i)\n",
    "        print(i)\n",
    "    else:\n",
    "        l_greater.append(i)\n",
    "    "
   ]
  },
  {
   "cell_type": "code",
   "execution_count": 52,
   "id": "bbf096c7",
   "metadata": {},
   "outputs": [
    {
     "data": {
      "text/plain": [
       "['Pakistan']"
      ]
     },
     "execution_count": 52,
     "metadata": {},
     "output_type": "execute_result"
    }
   ],
   "source": [
    "l_greater\n"
   ]
  },
  {
   "cell_type": "code",
   "execution_count": 53,
   "id": "72302995",
   "metadata": {},
   "outputs": [
    {
     "data": {
      "text/plain": [
       "['India', 'China']"
      ]
     },
     "execution_count": 53,
     "metadata": {},
     "output_type": "execute_result"
    }
   ],
   "source": [
    "l_smaller"
   ]
  },
  {
   "cell_type": "code",
   "execution_count": 55,
   "id": "338ce91c",
   "metadata": {},
   "outputs": [],
   "source": [
    "d_1 = {'iant': { \n",
    "    \n",
    "    'a':14,\n",
    "    'b':10,\n",
    "    'c':4\n",
    " },\n",
    "      'course': {\n",
    "          \n",
    "           'd':45,\n",
    "           'e':34,\n",
    "           'f':1\n",
    "           \n",
    "       }\n",
    "      \n",
    "      \n",
    "      }"
   ]
  },
  {
   "cell_type": "code",
   "execution_count": 57,
   "id": "eacc460e",
   "metadata": {},
   "outputs": [],
   "source": [
    "d_1={'iant':{'a':14,'b':10,'c':4},'course':{'d':45,'e':34,'f':1}}"
   ]
  },
  {
   "cell_type": "code",
   "execution_count": 58,
   "id": "172fd84c",
   "metadata": {},
   "outputs": [
    {
     "name": "stdout",
     "output_type": "stream",
     "text": [
      "{'a': 14, 'b': 10, 'c': 4}\n",
      "{'d': 45, 'e': 34, 'f': 1}\n"
     ]
    }
   ],
   "source": [
    "lst = [] \n",
    "for i in d_1.values(): #got here two dect values \n",
    "    print(i)"
   ]
  },
  {
   "cell_type": "code",
   "execution_count": 60,
   "id": "baf7d479",
   "metadata": {},
   "outputs": [
    {
     "data": {
      "text/plain": [
       "dict_values([{'a': 14, 'b': 10, 'c': 4}, {'d': 45, 'e': 34, 'f': 1}])"
      ]
     },
     "execution_count": 60,
     "metadata": {},
     "output_type": "execute_result"
    }
   ],
   "source": [
    "d_1.values()"
   ]
  },
  {
   "cell_type": "code",
   "execution_count": 64,
   "id": "d95d8b84",
   "metadata": {},
   "outputs": [
    {
     "data": {
      "text/plain": [
       "dict_values"
      ]
     },
     "execution_count": 64,
     "metadata": {},
     "output_type": "execute_result"
    }
   ],
   "source": [
    "type(d_1.values())"
   ]
  },
  {
   "cell_type": "code",
   "execution_count": 6,
   "id": "053b6ffc",
   "metadata": {},
   "outputs": [
    {
     "name": "stdout",
     "output_type": "stream",
     "text": [
      "14\n",
      "10\n",
      "4\n",
      "45\n",
      "34\n",
      "1\n"
     ]
    }
   ],
   "source": [
    "lst = [] \n",
    "for i in d_1.values():\n",
    "    for j in i.values(): #got here inside values\n",
    "        print(j)\n",
    "    "
   ]
  },
  {
   "cell_type": "code",
   "execution_count": 82,
   "id": "64f76d4a",
   "metadata": {},
   "outputs": [
    {
     "name": "stdout",
     "output_type": "stream",
     "text": [
      "14\n",
      "45\n",
      "[14, 10, 4, 45, 34, 1]\n"
     ]
    },
    {
     "data": {
      "text/plain": [
       "[[14, 10, 4, 45, 34, 1], [14, 10, 4, 45, 34, 1]]"
      ]
     },
     "execution_count": 82,
     "metadata": {},
     "output_type": "execute_result"
    }
   ],
   "source": [
    "lst = [] \n",
    "c=[]\n",
    "for i in d_1.values():\n",
    "    for j in i.values():\n",
    "        lst.append(j)\n",
    "    c.append(lst)\n",
    "    print(max(lst))\n",
    "    lst\n",
    "print(max(c))\n",
    "c"
   ]
  },
  {
   "cell_type": "code",
   "execution_count": 83,
   "id": "230af0d7",
   "metadata": {},
   "outputs": [
    {
     "data": {
      "text/plain": [
       "[[14, 10, 4, 45, 34, 1], [14, 10, 4, 45, 34, 1]]"
      ]
     },
     "execution_count": 83,
     "metadata": {},
     "output_type": "execute_result"
    }
   ],
   "source": [
    "c"
   ]
  },
  {
   "cell_type": "code",
   "execution_count": 99,
   "id": "03d71f57",
   "metadata": {},
   "outputs": [
    {
     "data": {
      "text/plain": [
       "45"
      ]
     },
     "execution_count": 99,
     "metadata": {},
     "output_type": "execute_result"
    }
   ],
   "source": [
    "lst=[]\n",
    "f=[]\n",
    "for i in d_1.values():\n",
    "    for j in i.values():\n",
    "        lst.append(j)\n",
    "max(lst)"
   ]
  },
  {
   "cell_type": "code",
   "execution_count": 8,
   "id": "5aecb395",
   "metadata": {},
   "outputs": [
    {
     "name": "stdout",
     "output_type": "stream",
     "text": [
      "14\n",
      "45\n"
     ]
    }
   ],
   "source": [
    "for i in d_1.keys():\n",
    "    print(max(d_1[i].values()))"
   ]
  },
  {
   "cell_type": "code",
   "execution_count": 9,
   "id": "0f6e5ade",
   "metadata": {},
   "outputs": [
    {
     "data": {
      "text/plain": [
       "{'iant': {'a': 14, 'b': 10, 'c': 4}, 'course': {'d': 45, 'e': 34, 'f': 1}}"
      ]
     },
     "execution_count": 9,
     "metadata": {},
     "output_type": "execute_result"
    }
   ],
   "source": [
    "d_1"
   ]
  },
  {
   "cell_type": "code",
   "execution_count": 11,
   "id": "a169e8d2",
   "metadata": {},
   "outputs": [],
   "source": [
    "d_1 = {'iant': {'a': 14, 'b': 10, 'c': 4}, 'course': {'d': 45, 'e': 34, 'f': 1},\n",
    "      'h': [45,6,7,8,9,3], 'i': (45,34,2), 'k': 'sudh'}"
   ]
  },
  {
   "cell_type": "code",
   "execution_count": 1,
   "id": "8d546765",
   "metadata": {},
   "outputs": [
    {
     "ename": "NameError",
     "evalue": "name 'z' is not defined",
     "output_type": "error",
     "traceback": [
      "\u001b[1;31m---------------------------------------------------------------------------\u001b[0m",
      "\u001b[1;31mNameError\u001b[0m                                 Traceback (most recent call last)",
      "Cell \u001b[1;32mIn[1], line 1\u001b[0m\n\u001b[1;32m----> 1\u001b[0m \u001b[43mz\u001b[49m\n",
      "\u001b[1;31mNameError\u001b[0m: name 'z' is not defined"
     ]
    }
   ],
   "source": []
  },
  {
   "cell_type": "code",
   "execution_count": null,
   "id": "ab4318e4",
   "metadata": {},
   "outputs": [],
   "source": []
  },
  {
   "cell_type": "code",
   "execution_count": null,
   "id": "4dcdbfcd",
   "metadata": {},
   "outputs": [],
   "source": []
  }
 ],
 "metadata": {
  "kernelspec": {
   "display_name": "Python 3 (ipykernel)",
   "language": "python",
   "name": "python3"
  },
  "language_info": {
   "codemirror_mode": {
    "name": "ipython",
    "version": 3
   },
   "file_extension": ".py",
   "mimetype": "text/x-python",
   "name": "python",
   "nbconvert_exporter": "python",
   "pygments_lexer": "ipython3",
   "version": "3.10.9"
  },
  "toc": {
   "base_numbering": 1,
   "nav_menu": {},
   "number_sections": true,
   "sideBar": true,
   "skip_h1_title": false,
   "title_cell": "Table of Contents",
   "title_sidebar": "Contents",
   "toc_cell": false,
   "toc_position": {},
   "toc_section_display": true,
   "toc_window_display": false
  },
  "varInspector": {
   "cols": {
    "lenName": 16,
    "lenType": 16,
    "lenVar": 40
   },
   "kernels_config": {
    "python": {
     "delete_cmd_postfix": "",
     "delete_cmd_prefix": "del ",
     "library": "var_list.py",
     "varRefreshCmd": "print(var_dic_list())"
    },
    "r": {
     "delete_cmd_postfix": ") ",
     "delete_cmd_prefix": "rm(",
     "library": "var_list.r",
     "varRefreshCmd": "cat(var_dic_list()) "
    }
   },
   "types_to_exclude": [
    "module",
    "function",
    "builtin_function_or_method",
    "instance",
    "_Feature"
   ],
   "window_display": false
  }
 },
 "nbformat": 4,
 "nbformat_minor": 5
}
