{
 "cells": [
  {
   "cell_type": "markdown",
   "id": "9090846a",
   "metadata": {},
   "source": [
    "# If elif else"
   ]
  },
  {
   "cell_type": "code",
   "execution_count": 4,
   "id": "b3342d43",
   "metadata": {},
   "outputs": [
    {
     "name": "stdout",
     "output_type": "stream",
     "text": [
      "5\n",
      "it will take 3 months\n"
     ]
    }
   ],
   "source": [
    "\n",
    "study_hour = int(input())\n",
    "if study_hour < 1:\n",
    "    print(\"It may take 8-9 months to take transition\")\n",
    "elif study_hour < 4 and study_hour > 1:\n",
    "    print(\"IT may take 6 months for transition\")\n",
    "elif study_hour < 10:\n",
    "    print(\"it will take 3 months\")\n",
    "else:\n",
    "    print('It will be diffficult')"
   ]
  },
  {
   "cell_type": "code",
   "execution_count": 5,
   "id": "d55b0ae1",
   "metadata": {},
   "outputs": [
    {
     "name": "stdout",
     "output_type": "stream",
     "text": [
      "10\n",
      "you are fail\n"
     ]
    }
   ],
   "source": [
    "marks = int(input())\n",
    "if marks >=36 and marks < 49 : \n",
    "    print('You are only pass')\n",
    "elif marks >= 49 and marks <89:\n",
    "    print(\"You are average\")\n",
    "elif marks >= 89 and marks < 100:\n",
    "    print('You are Excillent')\n",
    "elif marks >100:\n",
    "    print('Kindly check mark again and enter again')\n",
    "else :\n",
    "    print ('you are fail')"
   ]
  },
  {
   "cell_type": "code",
   "execution_count": 6,
   "id": "e38099c9",
   "metadata": {},
   "outputs": [
    {
     "name": "stdout",
     "output_type": "stream",
     "text": [
      "valid\n"
     ]
    }
   ],
   "source": [
    "a = 9\n",
    "if a==9:\n",
    "    print('valid')"
   ]
  },
  {
   "cell_type": "code",
   "execution_count": 7,
   "id": "6ccf0835",
   "metadata": {},
   "outputs": [
    {
     "name": "stdout",
     "output_type": "stream",
     "text": [
      "Enter a pack name  to start sigma\n",
      "enter a course name FSDS\n",
      "enter a service name courserequest\n",
      "yes its avilable, you can start learning\n"
     ]
    }
   ],
   "source": [
    "pack = input('Enter a pack name  to start ')\n",
    "course = input('enter a course name ')\n",
    "service = input('enter a service name ')\n",
    "if pack == \"sigma\":\n",
    "    if course == 'DSA':\n",
    "        print('yes it is avilable under one neuron and in multiple made for core ')\n",
    "    elif course == 'blockchain':\n",
    "        print('this is not avilable as of now, kindly raise your demand we will filfill in 60 days')\n",
    "    elif course == 'FSDS':\n",
    "        print('yes its avilable, you can start learning')\n",
    "    else :\n",
    "        print('Other courses not avilable')\n",
    "elif pack == 'sigmaservice':\n",
    "    if service == 'courserequest':\n",
    "        print('Dear learner, you can raise demand related to any new course, and we will fulfil your demand in 60 days')\n",
    "    elif service == 'module':\n",
    "        print('Dear learner, you can raise demand related to any new course, and we will fulfil your demand in 30 days')\n",
    "    elif service == 'doubt':\n",
    "        print('Dear learner, yo can raise your demand related doubt clearning')\n",
    "    elif service =='workwithus':\n",
    "        print('Dear learner you ca raise your demand related to workwithus')\n",
    "    else:\n",
    "        print('kindly provide us your fedbackand we will fullfill you')\n",
    "else:\n",
    "    print('Kindly connect with our team')\n",
    "        \n",
    "    \n",
    "    "
   ]
  },
  {
   "cell_type": "markdown",
   "id": "3f596944",
   "metadata": {},
   "source": [
    "# For loop"
   ]
  },
  {
   "cell_type": "code",
   "execution_count": 8,
   "id": "bd017052",
   "metadata": {},
   "outputs": [
    {
     "name": "stdout",
     "output_type": "stream",
     "text": [
      "1\n",
      "2\n",
      "3\n",
      "4\n",
      "5\n",
      "6\n",
      "7\n"
     ]
    }
   ],
   "source": [
    "l = [1,2,3,4,5,6,7]\n",
    "for i in l :\n",
    "    print(i)"
   ]
  },
  {
   "cell_type": "code",
   "execution_count": null,
   "id": "c70bf16f",
   "metadata": {},
   "outputs": [],
   "source": [
    "\n",
    "for i in 'vaibhav' :\n",
    "    print(i)"
   ]
  },
  {
   "cell_type": "code",
   "execution_count": 12,
   "id": "6ade9aca",
   "metadata": {},
   "outputs": [
    {
     "name": "stdout",
     "output_type": "stream",
     "text": [
      "0\n",
      "1\n",
      "2\n",
      "3\n",
      "4\n",
      "5\n",
      "6\n",
      "7\n",
      "8\n",
      "9\n"
     ]
    }
   ],
   "source": [
    "for vaibhav in range(0,10):\n",
    "    print(vaibhav)\n",
    "    #print(vaibhav)"
   ]
  },
  {
   "cell_type": "code",
   "execution_count": 13,
   "id": "e2902306",
   "metadata": {},
   "outputs": [
    {
     "name": "stdout",
     "output_type": "stream",
     "text": [
      "V\n",
      "a\n",
      "i\n",
      "b\n",
      "h\n",
      "a\n",
      "v\n"
     ]
    }
   ],
   "source": [
    "b = 'Vaibhav'\n",
    "for i in b :\n",
    "    print(i)"
   ]
  },
  {
   "cell_type": "code",
   "execution_count": 14,
   "id": "4088f948",
   "metadata": {},
   "outputs": [],
   "source": [
    "t =(1,2,3,4,5,6)"
   ]
  },
  {
   "cell_type": "code",
   "execution_count": 15,
   "id": "328864db",
   "metadata": {},
   "outputs": [
    {
     "name": "stdout",
     "output_type": "stream",
     "text": [
      "1\n",
      "2\n",
      "3\n",
      "4\n",
      "5\n",
      "6\n"
     ]
    }
   ],
   "source": [
    "for i in t :\n",
    "    print(i)"
   ]
  },
  {
   "cell_type": "code",
   "execution_count": 17,
   "id": "de5c04cc",
   "metadata": {},
   "outputs": [],
   "source": [
    "l = [1,4,5.6,5j,'vaibhav']\n"
   ]
  },
  {
   "cell_type": "code",
   "execution_count": 18,
   "id": "3bf1cf17",
   "metadata": {},
   "outputs": [
    {
     "name": "stdout",
     "output_type": "stream",
     "text": [
      "[1, 4, 5.6, 5j, 'vaibhav']\n",
      "[1, 4, 5.6, 5j, 'vaibhav']\n",
      "[1, 4, 5.6, 5j, 'vaibhav']\n",
      "[1, 4, 5.6, 5j, 'vaibhav']\n",
      "[1, 4, 5.6, 5j, 'vaibhav']\n"
     ]
    }
   ],
   "source": [
    "for i in l :\n",
    "    print(l)"
   ]
  },
  {
   "cell_type": "code",
   "execution_count": 19,
   "id": "028c61ed",
   "metadata": {},
   "outputs": [
    {
     "name": "stdout",
     "output_type": "stream",
     "text": [
      "<class 'int'>\n",
      "<class 'int'>\n",
      "<class 'float'>\n",
      "<class 'complex'>\n",
      "<class 'str'>\n"
     ]
    }
   ],
   "source": [
    "for i in l:\n",
    "    print(type(i))"
   ]
  },
  {
   "cell_type": "code",
   "execution_count": 21,
   "id": "2cb5bd6b",
   "metadata": {},
   "outputs": [
    {
     "name": "stdout",
     "output_type": "stream",
     "text": [
      "<class 'int'> type of  1\n",
      "<class 'int'> type of  4\n",
      "<class 'float'> type of  5.6\n",
      "<class 'complex'> type of  5j\n",
      "<class 'str'> type of  vaibhav\n"
     ]
    }
   ],
   "source": [
    "for i in l:\n",
    "    print(type(i), 'type of ', i )"
   ]
  },
  {
   "cell_type": "code",
   "execution_count": 25,
   "id": "19d939eb",
   "metadata": {},
   "outputs": [],
   "source": [
    "l=[10,20,30,40]\n",
    "l1=[]"
   ]
  },
  {
   "cell_type": "code",
   "execution_count": 29,
   "id": "7804affe",
   "metadata": {},
   "outputs": [
    {
     "name": "stdout",
     "output_type": "stream",
     "text": [
      "20\n",
      "30\n",
      "40\n",
      "50\n"
     ]
    }
   ],
   "source": [
    "for i in l :\n",
    "    print(i + 10)\n",
    "    l1.append(i+10)"
   ]
  },
  {
   "cell_type": "code",
   "execution_count": 30,
   "id": "53dec53e",
   "metadata": {},
   "outputs": [
    {
     "data": {
      "text/plain": [
       "[20, 30, 40, 50, 20, 30, 40, 50, 20, 30, 40, 50]"
      ]
     },
     "execution_count": 30,
     "metadata": {},
     "output_type": "execute_result"
    }
   ],
   "source": [
    "l1"
   ]
  },
  {
   "cell_type": "code",
   "execution_count": 31,
   "id": "95ca4f9a",
   "metadata": {},
   "outputs": [],
   "source": [
    "l1 = [ 3,6,7.6]\n",
    "l = [ 2,45,78,12,'vvb', 6+7j, [56, 67 , 78]]"
   ]
  },
  {
   "cell_type": "code",
   "execution_count": 32,
   "id": "2a6fcd16",
   "metadata": {},
   "outputs": [
    {
     "name": "stdout",
     "output_type": "stream",
     "text": [
      "2\n",
      "45\n",
      "78\n",
      "12\n"
     ]
    }
   ],
   "source": [
    "for i  in l :\n",
    "    if type(i) == int :\n",
    "        print(i)"
   ]
  },
  {
   "cell_type": "code",
   "execution_count": 33,
   "id": "427dac5f",
   "metadata": {},
   "outputs": [
    {
     "name": "stdout",
     "output_type": "stream",
     "text": [
      "vvb\n"
     ]
    }
   ],
   "source": [
    "for i  in l :\n",
    "    if type(i) == str :\n",
    "        print(i)"
   ]
  },
  {
   "cell_type": "code",
   "execution_count": 34,
   "id": "aef1d896",
   "metadata": {},
   "outputs": [],
   "source": [
    "for i  in l :\n",
    "    if type(i) == float :\n",
    "        print(i)"
   ]
  },
  {
   "cell_type": "code",
   "execution_count": 35,
   "id": "b7cb345c",
   "metadata": {},
   "outputs": [],
   "source": [
    "l = [ 2,45,78,12,'john', 6+7j, [56, 67 , 78]]"
   ]
  },
  {
   "cell_type": "code",
   "execution_count": 36,
   "id": "3e53fc8f",
   "metadata": {},
   "outputs": [
    {
     "name": "stdout",
     "output_type": "stream",
     "text": [
      "2\n",
      "45\n",
      "78\n",
      "12\n",
      "56\n",
      "67\n",
      "78\n"
     ]
    }
   ],
   "source": [
    "for i  in l :\n",
    "    if type(i) == int :\n",
    "        print(i)\n",
    "    elif type(i) == list :\n",
    "        for j in i :\n",
    "            if type(j) ==int:\n",
    "                print(j)\n",
    "        \n"
   ]
  },
  {
   "cell_type": "code",
   "execution_count": 37,
   "id": "9fae0dc1",
   "metadata": {},
   "outputs": [],
   "source": [
    "l = [2,45,78,12,'stiv','vaibhav', 6+7j, [56,67,78,'dsfsf']]"
   ]
  },
  {
   "cell_type": "code",
   "execution_count": 38,
   "id": "46eae440",
   "metadata": {},
   "outputs": [
    {
     "name": "stdout",
     "output_type": "stream",
     "text": [
      "0\n",
      "1\n",
      "2\n",
      "3\n",
      "4\n",
      "5\n",
      "6\n",
      "7\n",
      "8\n",
      "9\n"
     ]
    }
   ],
   "source": [
    "for i in range(10):\n",
    "    print(i)"
   ]
  },
  {
   "cell_type": "code",
   "execution_count": 42,
   "id": "5ee6a4ed",
   "metadata": {},
   "outputs": [
    {
     "name": "stdout",
     "output_type": "stream",
     "text": [
      "2\n",
      "4\n",
      "6\n",
      "8\n",
      "10\n",
      "12\n",
      "14\n",
      "16\n",
      "18\n",
      "20\n"
     ]
    }
   ],
   "source": [
    "for i in range(2,21,2):\n",
    "    print(i)"
   ]
  },
  {
   "cell_type": "code",
   "execution_count": 43,
   "id": "0c560127",
   "metadata": {},
   "outputs": [
    {
     "data": {
      "text/plain": [
       "8"
      ]
     },
     "execution_count": 43,
     "metadata": {},
     "output_type": "execute_result"
    }
   ],
   "source": [
    "len(l)"
   ]
  },
  {
   "cell_type": "code",
   "execution_count": 44,
   "id": "2ea39515",
   "metadata": {},
   "outputs": [
    {
     "name": "stdout",
     "output_type": "stream",
     "text": [
      "index 0 for an element  2\n",
      "index 1 for an element  45\n",
      "index 2 for an element  78\n",
      "index 3 for an element  12\n",
      "index 4 for an element  stiv\n",
      "index 5 for an element  vaibhav\n",
      "index 6 for an element  (6+7j)\n",
      "index 7 for an element  [56, 67, 78, 'dsfsf']\n"
     ]
    }
   ],
   "source": [
    "for i in range(len(l)) :\n",
    "    print('index', i , 'for an element ', l[i])\n",
    "    "
   ]
  },
  {
   "cell_type": "code",
   "execution_count": 46,
   "id": "a4911af9",
   "metadata": {},
   "outputs": [
    {
     "name": "stdout",
     "output_type": "stream",
     "text": [
      "(0, 2)\n",
      "(1, 45)\n",
      "(2, 78)\n",
      "(3, 12)\n",
      "(4, 'stiv')\n",
      "(5, 'vaibhav')\n",
      "(6, (6+7j))\n",
      "(7, [56, 67, 78, 'dsfsf'])\n"
     ]
    }
   ],
   "source": [
    "## Special function\n",
    "for i in enumerate(l): #ghgj\n",
    "    print(i)"
   ]
  },
  {
   "cell_type": "code",
   "execution_count": 47,
   "id": "16d325a0",
   "metadata": {},
   "outputs": [
    {
     "data": {
      "text/plain": [
       "[2, 45, 78, 12, 'stiv', 'vaibhav', (6+7j), [56, 67, 78, 'dsfsf']]"
      ]
     },
     "execution_count": 47,
     "metadata": {},
     "output_type": "execute_result"
    }
   ],
   "source": [
    "l"
   ]
  },
  {
   "cell_type": "code",
   "execution_count": 48,
   "id": "3dd447f0",
   "metadata": {},
   "outputs": [
    {
     "name": "stdout",
     "output_type": "stream",
     "text": [
      "['s', 't', 'i', 'v']\n",
      "['v', 'a', 'i', 'b', 'h', 'a', 'v']\n"
     ]
    }
   ],
   "source": [
    "for i in l:\n",
    "    if type(i) == str:\n",
    "        l1=[] ##local\n",
    "        for j in i :\n",
    "            l1.append(j)\n",
    "        print(l1)\n",
    "    "
   ]
  },
  {
   "cell_type": "code",
   "execution_count": 49,
   "id": "f4124e26",
   "metadata": {},
   "outputs": [
    {
     "data": {
      "text/plain": [
       "[2, 45, 78, 12, 'stiv', 'vaibhav', (6+7j), [56, 67, 78, 'dsfsf']]"
      ]
     },
     "execution_count": 49,
     "metadata": {},
     "output_type": "execute_result"
    }
   ],
   "source": [
    "l"
   ]
  },
  {
   "cell_type": "code",
   "execution_count": 50,
   "id": "e2670916",
   "metadata": {},
   "outputs": [
    {
     "name": "stdout",
     "output_type": "stream",
     "text": [
      "[4, 2025, 6084, 144]\n"
     ]
    }
   ],
   "source": [
    "l2 = []\n",
    "for i in l:\n",
    "    if type(i)== int:\n",
    "        l2.append(i**2)\n",
    "print(l2)"
   ]
  },
  {
   "cell_type": "code",
   "execution_count": null,
   "id": "c09bfd4b",
   "metadata": {},
   "outputs": [],
   "source": []
  },
  {
   "cell_type": "code",
   "execution_count": null,
   "id": "62ac7c27",
   "metadata": {},
   "outputs": [],
   "source": []
  },
  {
   "cell_type": "code",
   "execution_count": null,
   "id": "970b830e",
   "metadata": {},
   "outputs": [],
   "source": []
  },
  {
   "cell_type": "code",
   "execution_count": null,
   "id": "6d38b17e",
   "metadata": {},
   "outputs": [],
   "source": []
  },
  {
   "cell_type": "code",
   "execution_count": null,
   "id": "75d11518",
   "metadata": {},
   "outputs": [],
   "source": []
  },
  {
   "cell_type": "code",
   "execution_count": null,
   "id": "838bd1c7",
   "metadata": {},
   "outputs": [],
   "source": []
  },
  {
   "cell_type": "code",
   "execution_count": null,
   "id": "eae69944",
   "metadata": {},
   "outputs": [],
   "source": []
  },
  {
   "cell_type": "code",
   "execution_count": null,
   "id": "bae16b68",
   "metadata": {},
   "outputs": [],
   "source": []
  },
  {
   "cell_type": "code",
   "execution_count": null,
   "id": "ed98e957",
   "metadata": {},
   "outputs": [],
   "source": []
  },
  {
   "cell_type": "code",
   "execution_count": null,
   "id": "496771bd",
   "metadata": {},
   "outputs": [],
   "source": []
  },
  {
   "cell_type": "code",
   "execution_count": null,
   "id": "fe4d752d",
   "metadata": {},
   "outputs": [],
   "source": []
  },
  {
   "cell_type": "code",
   "execution_count": null,
   "id": "3f2d0852",
   "metadata": {},
   "outputs": [],
   "source": []
  },
  {
   "cell_type": "code",
   "execution_count": null,
   "id": "85eed8b5",
   "metadata": {},
   "outputs": [],
   "source": []
  },
  {
   "cell_type": "code",
   "execution_count": null,
   "id": "20832781",
   "metadata": {},
   "outputs": [],
   "source": []
  },
  {
   "cell_type": "code",
   "execution_count": null,
   "id": "2b792127",
   "metadata": {},
   "outputs": [],
   "source": []
  },
  {
   "cell_type": "code",
   "execution_count": null,
   "id": "89e2354a",
   "metadata": {},
   "outputs": [],
   "source": []
  },
  {
   "cell_type": "code",
   "execution_count": null,
   "id": "96b08841",
   "metadata": {},
   "outputs": [],
   "source": []
  },
  {
   "cell_type": "code",
   "execution_count": null,
   "id": "a0311b71",
   "metadata": {},
   "outputs": [],
   "source": []
  },
  {
   "cell_type": "code",
   "execution_count": null,
   "id": "1c3e3f97",
   "metadata": {},
   "outputs": [],
   "source": []
  },
  {
   "cell_type": "code",
   "execution_count": null,
   "id": "55cbad3c",
   "metadata": {},
   "outputs": [],
   "source": []
  },
  {
   "cell_type": "code",
   "execution_count": null,
   "id": "8258bc44",
   "metadata": {},
   "outputs": [],
   "source": []
  },
  {
   "cell_type": "code",
   "execution_count": null,
   "id": "810d9326",
   "metadata": {},
   "outputs": [],
   "source": []
  },
  {
   "cell_type": "code",
   "execution_count": null,
   "id": "89b81d0f",
   "metadata": {},
   "outputs": [],
   "source": []
  },
  {
   "cell_type": "code",
   "execution_count": null,
   "id": "54d01e77",
   "metadata": {},
   "outputs": [],
   "source": []
  },
  {
   "cell_type": "code",
   "execution_count": null,
   "id": "a7bb66ad",
   "metadata": {},
   "outputs": [],
   "source": []
  },
  {
   "cell_type": "code",
   "execution_count": null,
   "id": "4bf6b41c",
   "metadata": {},
   "outputs": [],
   "source": []
  },
  {
   "cell_type": "code",
   "execution_count": null,
   "id": "b10c5fa8",
   "metadata": {},
   "outputs": [],
   "source": []
  },
  {
   "cell_type": "code",
   "execution_count": null,
   "id": "12eba064",
   "metadata": {},
   "outputs": [],
   "source": []
  },
  {
   "cell_type": "code",
   "execution_count": null,
   "id": "e1931edc",
   "metadata": {},
   "outputs": [],
   "source": []
  }
 ],
 "metadata": {
  "kernelspec": {
   "display_name": "Python 3 (ipykernel)",
   "language": "python",
   "name": "python3"
  },
  "language_info": {
   "codemirror_mode": {
    "name": "ipython",
    "version": 3
   },
   "file_extension": ".py",
   "mimetype": "text/x-python",
   "name": "python",
   "nbconvert_exporter": "python",
   "pygments_lexer": "ipython3",
   "version": "3.10.9"
  }
 },
 "nbformat": 4,
 "nbformat_minor": 5
}
