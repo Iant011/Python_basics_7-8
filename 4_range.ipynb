{
 "cells": [
  {
   "cell_type": "code",
   "execution_count": 2,
   "id": "dabb74bb",
   "metadata": {},
   "outputs": [],
   "source": [
    "l =[ \"name\", 'emailid', 'phoneno', 'address']"
   ]
  },
  {
   "cell_type": "code",
   "execution_count": 4,
   "id": "8a717ed5",
   "metadata": {},
   "outputs": [
    {
     "name": "stdout",
     "output_type": "stream",
     "text": [
      "name vaibhav\n",
      "emailid vaibhav\n",
      "phoneno vaibhav\n",
      "address vaibhav\n"
     ]
    }
   ],
   "source": [
    "for i in l :\n",
    "    print(i + ' vaibhav')"
   ]
  },
  {
   "cell_type": "code",
   "execution_count": 6,
   "id": "9e983e22",
   "metadata": {},
   "outputs": [
    {
     "name": "stdout",
     "output_type": "stream",
     "text": [
      "I\n",
      "A\n",
      "N\n",
      "T\n",
      "If for loop is going to conplete itself then it ill come to else\n"
     ]
    }
   ],
   "source": [
    "## for else\n",
    "s = 'IANT'\n",
    "for i in s :\n",
    "    print(i)\n",
    "else:\n",
    "    print('If for loop is going to conplete itself then it ill come to else')"
   ]
  },
  {
   "cell_type": "code",
   "execution_count": 7,
   "id": "acfaf688",
   "metadata": {},
   "outputs": [
    {
     "data": {
      "text/plain": [
       "['name', 'emailid', 'phoneno', 'address']"
      ]
     },
     "execution_count": 7,
     "metadata": {},
     "output_type": "execute_result"
    }
   ],
   "source": [
    "l"
   ]
  },
  {
   "cell_type": "code",
   "execution_count": 8,
   "id": "1633dc9a",
   "metadata": {},
   "outputs": [],
   "source": [
    "for i in l:\n",
    "    if i == 'name' :\n",
    "        break\n",
    "    print(i)\n",
    "else :\n",
    "    print('please check this statement')"
   ]
  },
  {
   "cell_type": "code",
   "execution_count": 9,
   "id": "6826b347",
   "metadata": {},
   "outputs": [
    {
     "name": "stdout",
     "output_type": "stream",
     "text": [
      "name\n",
      "emailid\n",
      "phoneno\n"
     ]
    }
   ],
   "source": [
    "for i in l:\n",
    "    if i == 'address' :\n",
    "        break\n",
    "    print(i)\n",
    "else :\n",
    "    print('please check this statement')"
   ]
  },
  {
   "cell_type": "code",
   "execution_count": 10,
   "id": "8bf06e5a",
   "metadata": {},
   "outputs": [
    {
     "name": "stdout",
     "output_type": "stream",
     "text": [
      "dnt executute\n"
     ]
    }
   ],
   "source": [
    "s = \"vaibhav\"\n",
    "for i in s :\n",
    "    if i == 'x':\n",
    "        break\n",
    "else:\n",
    "    print('dnt executute')\n",
    "    "
   ]
  },
  {
   "cell_type": "code",
   "execution_count": null,
   "id": "2b487450",
   "metadata": {},
   "outputs": [],
   "source": [
    "# while statements"
   ]
  },
  {
   "cell_type": "code",
   "execution_count": 11,
   "id": "6d5a9d29",
   "metadata": {},
   "outputs": [
    {
     "name": "stdout",
     "output_type": "stream",
     "text": [
      "1\n",
      "2\n",
      "3\n",
      "4\n",
      "5\n"
     ]
    }
   ],
   "source": [
    "a = 1\n",
    "while a < 6:\n",
    "    print(a)\n",
    "    a = a+1"
   ]
  },
  {
   "cell_type": "code",
   "execution_count": 12,
   "id": "d805b26f",
   "metadata": {},
   "outputs": [
    {
     "name": "stdout",
     "output_type": "stream",
     "text": [
      "1\n",
      "2\n",
      "3\n",
      "4\n"
     ]
    }
   ],
   "source": [
    "a=1\n",
    "while a< 5 :\n",
    "    print(a)\n",
    "    if a==4:\n",
    "        break\n",
    "    a = a+1"
   ]
  },
  {
   "cell_type": "code",
   "execution_count": 13,
   "id": "51acec7d",
   "metadata": {},
   "outputs": [
    {
     "name": "stdout",
     "output_type": "stream",
     "text": [
      "1\n",
      "2\n",
      "3\n",
      "4\n",
      "5\n",
      "6\n",
      "7\n",
      "8\n",
      "9\n",
      "10\n"
     ]
    }
   ],
   "source": [
    "a = 1\n",
    "while a< 19:\n",
    "    print(a)\n",
    "    if a ==10:\n",
    "        break\n",
    "    a = a+1"
   ]
  },
  {
   "cell_type": "code",
   "execution_count": 22,
   "id": "bf235551",
   "metadata": {},
   "outputs": [
    {
     "name": "stdout",
     "output_type": "stream",
     "text": [
      "1\n",
      "2\n",
      "4\n",
      "5\n",
      "6\n"
     ]
    }
   ],
   "source": [
    "#skip\n",
    "a =0\n",
    "while a < 6 :\n",
    "    \n",
    "    a = a + 1\n",
    "    if a == 3:\n",
    "        continue #skip\n",
    "    print(a)\n",
    "    "
   ]
  },
  {
   "cell_type": "code",
   "execution_count": 23,
   "id": "8c8bbe99",
   "metadata": {},
   "outputs": [
    {
     "data": {
      "text/plain": [
       "range(0, 4)"
      ]
     },
     "execution_count": 23,
     "metadata": {},
     "output_type": "execute_result"
    }
   ],
   "source": [
    "range(4)    #raNge#############"
   ]
  },
  {
   "cell_type": "code",
   "execution_count": 24,
   "id": "e0b96370",
   "metadata": {},
   "outputs": [
    {
     "data": {
      "text/plain": [
       "[0, 1, 2, 3, 4, 5]"
      ]
     },
     "execution_count": 24,
     "metadata": {},
     "output_type": "execute_result"
    }
   ],
   "source": [
    "list(range(6))   #starts from till 6 excuding 6"
   ]
  },
  {
   "cell_type": "code",
   "execution_count": 25,
   "id": "9389630c",
   "metadata": {},
   "outputs": [
    {
     "data": {
      "text/plain": [
       "[4, 5, 6, 7, 8, 9, 10, 11, 12, 13, 14]"
      ]
     },
     "execution_count": 25,
     "metadata": {},
     "output_type": "execute_result"
    }
   ],
   "source": [
    "list(range(4,15))"
   ]
  },
  {
   "cell_type": "code",
   "execution_count": 26,
   "id": "670f2005",
   "metadata": {},
   "outputs": [
    {
     "data": {
      "text/plain": [
       "[3, 5, 7, 9, 11, 13]"
      ]
     },
     "execution_count": 26,
     "metadata": {},
     "output_type": "execute_result"
    }
   ],
   "source": [
    "list(range(3,15,2))"
   ]
  },
  {
   "cell_type": "code",
   "execution_count": 27,
   "id": "27afbb76",
   "metadata": {},
   "outputs": [
    {
     "data": {
      "text/plain": [
       "[10, 9, 8, 7]"
      ]
     },
     "execution_count": 27,
     "metadata": {},
     "output_type": "execute_result"
    }
   ],
   "source": [
    "list(range(10,6,-1))"
   ]
  },
  {
   "cell_type": "code",
   "execution_count": 28,
   "id": "b0e8e98c",
   "metadata": {},
   "outputs": [
    {
     "name": "stdout",
     "output_type": "stream",
     "text": [
      "0\n",
      "1\n",
      "2\n",
      "3\n",
      "4\n",
      "5\n",
      "6\n"
     ]
    }
   ],
   "source": [
    "for i in range(7):\n",
    "    print(i)"
   ]
  },
  {
   "cell_type": "code",
   "execution_count": 29,
   "id": "be822008",
   "metadata": {},
   "outputs": [
    {
     "name": "stdout",
     "output_type": "stream",
     "text": [
      "*  \r\n",
      "*  *  \r\n",
      "*  *  *  \r\n",
      "*  *  *  *  \r\n",
      "*  *  *  *  *  \r\n",
      "*  *  *  *  *  *  \r\n"
     ]
    }
   ],
   "source": [
    "n = 6\n",
    "for i in range (0,n):\n",
    "    for j in range(0, i+1):\n",
    "        print('*', end ='  ') #Default value of end+='' is \\n \n",
    "    print('\\r')               \n",
    "# print('My name \\r is \\r vaibhav')"
   ]
  },
  {
   "cell_type": "code",
   "execution_count": 30,
   "id": "10530f12",
   "metadata": {},
   "outputs": [
    {
     "name": "stdout",
     "output_type": "stream",
     "text": [
      "*\n",
      "\r\n",
      "*\n",
      "*\n",
      "\r\n",
      "*\n",
      "*\n",
      "*\n",
      "\r\n",
      "*\n",
      "*\n",
      "*\n",
      "*\n",
      "\r\n",
      "*\n",
      "*\n",
      "*\n",
      "*\n",
      "*\n",
      "\r\n",
      "*\n",
      "*\n",
      "*\n",
      "*\n",
      "*\n",
      "*\n",
      "\r\n"
     ]
    }
   ],
   "source": [
    "for i in range (0,n):\n",
    "    for j in range(0, i+1):\n",
    "        print('*' )\n",
    "    print('\\r')"
   ]
  },
  {
   "cell_type": "code",
   "execution_count": 31,
   "id": "c6c4b445",
   "metadata": {},
   "outputs": [
    {
     "name": "stdout",
     "output_type": "stream",
     "text": [
      "VB \r\n",
      "VB VB \r\n",
      "VB VB VB \r\n",
      "VB VB VB VB \r\n",
      "VB VB VB VB VB \r\n",
      "VB VB VB VB VB VB \r\n"
     ]
    }
   ],
   "source": [
    "for i in range (0,n):\n",
    "    for j in range(0, i+1):\n",
    "        print('VB ', end ='')\n",
    "    print('\\r')"
   ]
  },
  {
   "cell_type": "code",
   "execution_count": 32,
   "id": "39985403",
   "metadata": {},
   "outputs": [
    {
     "name": "stdout",
     "output_type": "stream",
     "text": [
      "VB\n",
      "\r\n",
      "VB\n",
      "VB\n",
      "\r\n",
      "VB\n",
      "VB\n",
      "VB\n",
      "\r\n",
      "VB\n",
      "VB\n",
      "VB\n",
      "VB\n",
      "\r\n",
      "VB\n",
      "VB\n",
      "VB\n",
      "VB\n",
      "VB\n",
      "\r\n",
      "VB\n",
      "VB\n",
      "VB\n",
      "VB\n",
      "VB\n",
      "VB\n",
      "\r\n"
     ]
    }
   ],
   "source": [
    "for i in range (0,n):\n",
    "    for j in range(0, i+1):\n",
    "        print('VB')\n",
    "    print('\\r')"
   ]
  },
  {
   "cell_type": "code",
   "execution_count": 35,
   "id": "eefbc5c2",
   "metadata": {},
   "outputs": [
    {
     "name": "stdout",
     "output_type": "stream",
     "text": [
      "* #\r\n",
      "* #* #\r\n",
      "* #* #* #\r\n",
      "* #* #* #* #\r\n",
      "* #* #* #* #* #\r\n",
      "* #* #* #* #* #* #\r\n"
     ]
    }
   ],
   "source": [
    "for i in range (0,n):\n",
    "    for j in range(0, i+1):\n",
    "        print('* ', end ='#')\n",
    "    print('\\r')  #new line withount gap"
   ]
  },
  {
   "cell_type": "code",
   "execution_count": 39,
   "id": "e100c3b1",
   "metadata": {},
   "outputs": [
    {
     "name": "stdout",
     "output_type": "stream",
     "text": [
      "*\r\n",
      "**\r\n",
      "***\r\n",
      "****\r\n",
      "*****\r\n",
      "******\r\n"
     ]
    }
   ],
   "source": [
    "for i in range (0,n):\n",
    "    for j in range(0, i+1):\n",
    "        print('*', end ='')\n",
    "    print('\\r')"
   ]
  },
  {
   "cell_type": "code",
   "execution_count": 43,
   "id": "17ca0bb4",
   "metadata": {},
   "outputs": [],
   "source": [
    "# similary we have to print from 6 "
   ]
  },
  {
   "cell_type": "code",
   "execution_count": 38,
   "id": "39718fc2",
   "metadata": {},
   "outputs": [
    {
     "name": "stdout",
     "output_type": "stream",
     "text": [
      "1\n",
      "2\n",
      "3\n",
      "4\n",
      "5\n",
      "6\n",
      "8\n",
      "7\n",
      "8\n"
     ]
    }
   ],
   "source": [
    "l = [1,2,3,4,5,6,8,7,8,]\n",
    "for i in l:\n",
    "    print(i)"
   ]
  },
  {
   "cell_type": "code",
   "execution_count": null,
   "id": "8f032324",
   "metadata": {},
   "outputs": [],
   "source": []
  },
  {
   "cell_type": "code",
   "execution_count": null,
   "id": "98eff3a5",
   "metadata": {},
   "outputs": [],
   "source": [
    "t = (5,8,9,85,6)\n",
    "for i in  t:\n",
    "    print(i)"
   ]
  },
  {
   "cell_type": "code",
   "execution_count": null,
   "id": "f30e1b2c",
   "metadata": {},
   "outputs": [],
   "source": [
    "t = (3,4,5,6,7,8,9)\n",
    "for i in range(len((t))):\n",
    "    print(i,t[0])"
   ]
  },
  {
   "cell_type": "code",
   "execution_count": null,
   "id": "62a6c4e5",
   "metadata": {},
   "outputs": [],
   "source": [
    "d = 'IANT'\n",
    "for i in d:\n",
    "    print(i)"
   ]
  },
  {
   "cell_type": "code",
   "execution_count": null,
   "id": "5acb17f9",
   "metadata": {},
   "outputs": [],
   "source": [
    "t"
   ]
  },
  {
   "cell_type": "code",
   "execution_count": null,
   "id": "07c2090f",
   "metadata": {},
   "outputs": [],
   "source": [
    "t[::-1]"
   ]
  },
  {
   "cell_type": "code",
   "execution_count": null,
   "id": "33526077",
   "metadata": {},
   "outputs": [],
   "source": [
    "v = (3,4,5,6,7,8,9)"
   ]
  },
  {
   "cell_type": "code",
   "execution_count": null,
   "id": "83053ff6",
   "metadata": {},
   "outputs": [],
   "source": []
  },
  {
   "cell_type": "code",
   "execution_count": null,
   "id": "66ad0ca6",
   "metadata": {},
   "outputs": [],
   "source": [
    "t"
   ]
  },
  {
   "cell_type": "code",
   "execution_count": null,
   "id": "e31b382e",
   "metadata": {},
   "outputs": [],
   "source": [
    "for i in range(len(t)-1 ,-1 ,-1):\n",
    "    print(t[i])"
   ]
  },
  {
   "cell_type": "code",
   "execution_count": null,
   "id": "be7ad40e",
   "metadata": {},
   "outputs": [],
   "source": [
    "range(len(t)-1 ,-1 ,-1) ###upside"
   ]
  },
  {
   "cell_type": "code",
   "execution_count": null,
   "id": "94747850",
   "metadata": {},
   "outputs": [],
   "source": [
    "for i in range(len(t)-1 ,-1 ,-1): #working of upside\n",
    "    print(i)"
   ]
  },
  {
   "cell_type": "code",
   "execution_count": null,
   "id": "b6aa8b72",
   "metadata": {},
   "outputs": [],
   "source": [
    "d = {\"a\" : 'fsdsfds' , 'b': 'fghdg' , 'c' : '[1,2,3,4,5]', 'd' : (1,2,3,6,7,8), 'e': 'vvb'}"
   ]
  },
  {
   "cell_type": "code",
   "execution_count": null,
   "id": "d58b2230",
   "metadata": {},
   "outputs": [],
   "source": [
    "d['d']"
   ]
  },
  {
   "cell_type": "code",
   "execution_count": null,
   "id": "c4c9db94",
   "metadata": {},
   "outputs": [],
   "source": [
    "for i in d:\n",
    "    print(i,d[i])"
   ]
  },
  {
   "cell_type": "code",
   "execution_count": null,
   "id": "098932cf",
   "metadata": {},
   "outputs": [],
   "source": [
    "d.items()"
   ]
  },
  {
   "cell_type": "code",
   "execution_count": null,
   "id": "9463f46a",
   "metadata": {},
   "outputs": [],
   "source": [
    "for i in d.items():\n",
    "    print(i)"
   ]
  },
  {
   "cell_type": "code",
   "execution_count": null,
   "id": "35954706",
   "metadata": {},
   "outputs": [],
   "source": [
    "s = {3,454,554,4,4,8454,8,4895,5,5}"
   ]
  },
  {
   "cell_type": "code",
   "execution_count": null,
   "id": "5d6bc74e",
   "metadata": {},
   "outputs": [],
   "source": [
    "s"
   ]
  },
  {
   "cell_type": "code",
   "execution_count": null,
   "id": "c495dff0",
   "metadata": {},
   "outputs": [],
   "source": [
    "for i in s:\n",
    "    print(i)"
   ]
  },
  {
   "cell_type": "code",
   "execution_count": 46,
   "id": "0b502077",
   "metadata": {},
   "outputs": [
    {
     "name": "stdout",
     "output_type": "stream",
     "text": [
      "Enter the number of rows for the reverse right triangle: 8\n",
      "********\n",
      "*******\n",
      "******\n",
      "*****\n",
      "****\n",
      "***\n",
      "**\n",
      "*\n"
     ]
    }
   ],
   "source": [
    "num_rows = int(input(\"Enter the number of rows for the reverse right triangle: \"))\n",
    "\n",
    "current_row = num_rows\n",
    "while current_row >= 1:\n",
    "    # Print asterisks for the current row\n",
    "    print(\"*\" * current_row)\n",
    "    \n",
    "    # Decrement the current row counter\n",
    "    current_row -= 1\n"
   ]
  },
  {
   "cell_type": "code",
   "execution_count": 47,
   "id": "b68c8e77",
   "metadata": {},
   "outputs": [
    {
     "name": "stdout",
     "output_type": "stream",
     "text": [
      "Enter the size of the heart: 5\n",
      "*********\n",
      " *******\n",
      "  *****\n",
      "   ***\n",
      "    *\n",
      "   ***\n",
      "  *****\n",
      " *******\n",
      "*********\n"
     ]
    }
   ],
   "source": [
    "size = int(input(\"Enter the size of the heart: \"))\n",
    "\n",
    "# Upper part\n",
    "for i in range(size, 0, -1):\n",
    "    print(\" \" * (size - i) + \"*\" * (2 * i - 1))\n",
    "\n",
    "# Lower part\n",
    "for i in range(size // 2, size + 1):\n",
    "    print(\" \" * (size - i) + \"*\" * (2 * i - 1))\n"
   ]
  },
  {
   "cell_type": "code",
   "execution_count": 48,
   "id": "583f0028",
   "metadata": {},
   "outputs": [
    {
     "name": "stdout",
     "output_type": "stream",
     "text": [
      "Enter the number of rows for the diamond (odd number): 10\n",
      "    *\n",
      "   ***\n",
      "  *****\n",
      " *******\n",
      "*********\n",
      "***********\n",
      "*********\n",
      " *******\n",
      "  *****\n",
      "   ***\n",
      "    *\n"
     ]
    }
   ],
   "source": [
    "num_rows = int(input(\"Enter the number of rows for the diamond (odd number): \"))\n",
    "\n",
    "# Make sure the number of rows is odd\n",
    "if num_rows % 2 == 0:\n",
    "    num_rows += 1\n",
    "\n",
    "# Upper the diamond\n",
    "for i in range(1, (num_rows // 2) + 1):\n",
    "    print(\" \" * ((num_rows // 2) - i) + \"*\" * (2 * i - 1))\n",
    "\n",
    "# Middle of the diamond\n",
    "print(\"*\" * num_rows)\n",
    "\n",
    "# Lower half of the diamond\n",
    "for i in range((num_rows // 2), 0, -1):\n",
    "    print(\" \" * ((num_rows // 2) - i) + \"*\" * (2 * i - 1))\n"
   ]
  },
  {
   "cell_type": "code",
   "execution_count": null,
   "id": "86dd8507",
   "metadata": {},
   "outputs": [],
   "source": []
  },
  {
   "cell_type": "code",
   "execution_count": null,
   "id": "4b7f1417",
   "metadata": {},
   "outputs": [],
   "source": []
  },
  {
   "cell_type": "code",
   "execution_count": null,
   "id": "d7edbaa9",
   "metadata": {},
   "outputs": [],
   "source": []
  },
  {
   "cell_type": "code",
   "execution_count": null,
   "id": "111f6c30",
   "metadata": {},
   "outputs": [],
   "source": []
  },
  {
   "cell_type": "code",
   "execution_count": null,
   "id": "7073d7fb",
   "metadata": {},
   "outputs": [],
   "source": []
  },
  {
   "cell_type": "code",
   "execution_count": null,
   "id": "231cbe92",
   "metadata": {},
   "outputs": [],
   "source": []
  }
 ],
 "metadata": {
  "kernelspec": {
   "display_name": "Python 3 (ipykernel)",
   "language": "python",
   "name": "python3"
  },
  "language_info": {
   "codemirror_mode": {
    "name": "ipython",
    "version": 3
   },
   "file_extension": ".py",
   "mimetype": "text/x-python",
   "name": "python",
   "nbconvert_exporter": "python",
   "pygments_lexer": "ipython3",
   "version": "3.10.9"
  }
 },
 "nbformat": 4,
 "nbformat_minor": 5
}
