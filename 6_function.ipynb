{
 "cells": [
  {
   "cell_type": "code",
   "execution_count": 46,
   "id": "d970244d",
   "metadata": {},
   "outputs": [],
   "source": [
    "def test1():\n",
    "    \n",
    "    print('This is my first function')"
   ]
  },
  {
   "cell_type": "code",
   "execution_count": 59,
   "id": "51242131",
   "metadata": {},
   "outputs": [
    {
     "name": "stdout",
     "output_type": "stream",
     "text": [
      "This is my first function\n"
     ]
    }
   ],
   "source": [
    "test1()"
   ]
  },
  {
   "cell_type": "code",
   "execution_count": 48,
   "id": "5eb09635",
   "metadata": {},
   "outputs": [
    {
     "name": "stdout",
     "output_type": "stream",
     "text": [
      "This is my first function\n"
     ]
    }
   ],
   "source": [
    "a=test1()"
   ]
  },
  {
   "cell_type": "code",
   "execution_count": 49,
   "id": "8bde0ea4",
   "metadata": {},
   "outputs": [
    {
     "ename": "TypeError",
     "evalue": "unsupported operand type(s) for +: 'NoneType' and 'str'",
     "output_type": "error",
     "traceback": [
      "\u001b[1;31m---------------------------------------------------------------------------\u001b[0m",
      "\u001b[1;31mTypeError\u001b[0m                                 Traceback (most recent call last)",
      "Cell \u001b[1;32mIn[49], line 1\u001b[0m\n\u001b[1;32m----> 1\u001b[0m \u001b[43ma\u001b[49m\u001b[43m \u001b[49m\u001b[38;5;241;43m+\u001b[39;49m\u001b[43m \u001b[49m\u001b[38;5;124;43m'\u001b[39;49m\u001b[38;5;124;43mRoy\u001b[39;49m\u001b[38;5;124;43m'\u001b[39;49m\n",
      "\u001b[1;31mTypeError\u001b[0m: unsupported operand type(s) for +: 'NoneType' and 'str'"
     ]
    }
   ],
   "source": [
    "a + 'Roy'\n",
    "#'NoneType' and 'str'"
   ]
  },
  {
   "cell_type": "code",
   "execution_count": 50,
   "id": "2be9efce",
   "metadata": {},
   "outputs": [
    {
     "name": "stdout",
     "output_type": "stream",
     "text": [
      "This is my first function\n"
     ]
    },
    {
     "data": {
      "text/plain": [
       "NoneType"
      ]
     },
     "execution_count": 50,
     "metadata": {},
     "output_type": "execute_result"
    }
   ],
   "source": [
    "type(test1())"
   ]
  },
  {
   "cell_type": "code",
   "execution_count": 51,
   "id": "84ed0644",
   "metadata": {},
   "outputs": [],
   "source": [
    "def test2():\n",
    "    print('vvb')"
   ]
  },
  {
   "cell_type": "code",
   "execution_count": 52,
   "id": "f68c6e49",
   "metadata": {},
   "outputs": [
    {
     "name": "stdout",
     "output_type": "stream",
     "text": [
      "vvb\n"
     ]
    }
   ],
   "source": [
    "test2()"
   ]
  },
  {
   "cell_type": "code",
   "execution_count": 53,
   "id": "70a1da1f",
   "metadata": {},
   "outputs": [
    {
     "ename": "TypeError",
     "evalue": "unsupported operand type(s) for +: 'function' and 'function'",
     "output_type": "error",
     "traceback": [
      "\u001b[1;31m---------------------------------------------------------------------------\u001b[0m",
      "\u001b[1;31mTypeError\u001b[0m                                 Traceback (most recent call last)",
      "Cell \u001b[1;32mIn[53], line 1\u001b[0m\n\u001b[1;32m----> 1\u001b[0m \u001b[43mtest1\u001b[49m\u001b[43m \u001b[49m\u001b[38;5;241;43m+\u001b[39;49m\u001b[43m \u001b[49m\u001b[43mtest2\u001b[49m\n",
      "\u001b[1;31mTypeError\u001b[0m: unsupported operand type(s) for +: 'function' and 'function'"
     ]
    }
   ],
   "source": [
    "test1 + test2\n",
    "#Nonetype"
   ]
  },
  {
   "cell_type": "code",
   "execution_count": 54,
   "id": "b06fdfd7",
   "metadata": {},
   "outputs": [
    {
     "name": "stdout",
     "output_type": "stream",
     "text": [
      "vvb\n"
     ]
    }
   ],
   "source": [
    "b = test2()"
   ]
  },
  {
   "cell_type": "code",
   "execution_count": 55,
   "id": "9ad91b7d",
   "metadata": {},
   "outputs": [
    {
     "data": {
      "text/plain": [
       "NoneType"
      ]
     },
     "execution_count": 55,
     "metadata": {},
     "output_type": "execute_result"
    }
   ],
   "source": [
    "type(b)"
   ]
  },
  {
   "cell_type": "code",
   "execution_count": 56,
   "id": "fb5a64b4",
   "metadata": {},
   "outputs": [
    {
     "data": {
      "text/plain": [
       "'None'"
      ]
     },
     "execution_count": 56,
     "metadata": {},
     "output_type": "execute_result"
    }
   ],
   "source": [
    "str(b)"
   ]
  },
  {
   "cell_type": "code",
   "execution_count": 57,
   "id": "f3c55da8",
   "metadata": {},
   "outputs": [],
   "source": [
    "def test3():\n",
    "    return 'this is my fnction'"
   ]
  },
  {
   "cell_type": "code",
   "execution_count": 58,
   "id": "cac41017",
   "metadata": {},
   "outputs": [
    {
     "data": {
      "text/plain": [
       "'this is my fnction'"
      ]
     },
     "execution_count": 58,
     "metadata": {},
     "output_type": "execute_result"
    }
   ],
   "source": [
    "test3()"
   ]
  },
  {
   "cell_type": "code",
   "execution_count": 60,
   "id": "29577847",
   "metadata": {},
   "outputs": [
    {
     "data": {
      "text/plain": [
       "str"
      ]
     },
     "execution_count": 60,
     "metadata": {},
     "output_type": "execute_result"
    }
   ],
   "source": [
    "type(test3())"
   ]
  },
  {
   "cell_type": "code",
   "execution_count": 61,
   "id": "250f7485",
   "metadata": {},
   "outputs": [
    {
     "data": {
      "text/plain": [
       "'this is my fnction IN PYTHON'"
      ]
     },
     "execution_count": 61,
     "metadata": {},
     "output_type": "execute_result"
    }
   ],
   "source": [
    "test3() + ' IN PYTHON'"
   ]
  },
  {
   "cell_type": "code",
   "execution_count": 62,
   "id": "1e3279ba",
   "metadata": {},
   "outputs": [],
   "source": [
    "def test4():\n",
    "   return 4141"
   ]
  },
  {
   "cell_type": "code",
   "execution_count": 63,
   "id": "f7518d17",
   "metadata": {},
   "outputs": [
    {
     "data": {
      "text/plain": [
       "4141"
      ]
     },
     "execution_count": 63,
     "metadata": {},
     "output_type": "execute_result"
    }
   ],
   "source": [
    "test4()"
   ]
  },
  {
   "cell_type": "code",
   "execution_count": 64,
   "id": "271c8a2d",
   "metadata": {},
   "outputs": [
    {
     "data": {
      "text/plain": [
       "int"
      ]
     },
     "execution_count": 64,
     "metadata": {},
     "output_type": "execute_result"
    }
   ],
   "source": [
    "type(test4())"
   ]
  },
  {
   "cell_type": "code",
   "execution_count": 65,
   "id": "b59eb9c1",
   "metadata": {},
   "outputs": [
    {
     "data": {
      "text/plain": [
       "4196"
      ]
     },
     "execution_count": 65,
     "metadata": {},
     "output_type": "execute_result"
    }
   ],
   "source": [
    "test4() + 55"
   ]
  },
  {
   "cell_type": "code",
   "execution_count": 66,
   "id": "21a450fd",
   "metadata": {},
   "outputs": [],
   "source": [
    "def test5():\n",
    "    return 4,3,'sudh',[1,2,3,4,5]"
   ]
  },
  {
   "cell_type": "code",
   "execution_count": 67,
   "id": "13b8a55c",
   "metadata": {},
   "outputs": [
    {
     "data": {
      "text/plain": [
       "(4, 3, 'sudh', [1, 2, 3, 4, 5])"
      ]
     },
     "execution_count": 67,
     "metadata": {},
     "output_type": "execute_result"
    }
   ],
   "source": [
    "test5()"
   ]
  },
  {
   "cell_type": "code",
   "execution_count": 68,
   "id": "4342744f",
   "metadata": {},
   "outputs": [
    {
     "data": {
      "text/plain": [
       "tuple"
      ]
     },
     "execution_count": 68,
     "metadata": {},
     "output_type": "execute_result"
    }
   ],
   "source": [
    "type(test5())"
   ]
  },
  {
   "cell_type": "code",
   "execution_count": 71,
   "id": "a7721fc3",
   "metadata": {},
   "outputs": [],
   "source": [
    "x = test5()"
   ]
  },
  {
   "cell_type": "code",
   "execution_count": 72,
   "id": "72e6bd14",
   "metadata": {},
   "outputs": [
    {
     "data": {
      "text/plain": [
       "(4, 3, 'sudh', [1, 2, 3, 4, 5])"
      ]
     },
     "execution_count": 72,
     "metadata": {},
     "output_type": "execute_result"
    }
   ],
   "source": [
    "x"
   ]
  },
  {
   "cell_type": "code",
   "execution_count": 73,
   "id": "d29be891",
   "metadata": {},
   "outputs": [
    {
     "data": {
      "text/plain": [
       "4"
      ]
     },
     "execution_count": 73,
     "metadata": {},
     "output_type": "execute_result"
    }
   ],
   "source": [
    "x[0]"
   ]
  },
  {
   "cell_type": "code",
   "execution_count": 74,
   "id": "b35f38c9",
   "metadata": {},
   "outputs": [
    {
     "data": {
      "text/plain": [
       "3"
      ]
     },
     "execution_count": 74,
     "metadata": {},
     "output_type": "execute_result"
    }
   ],
   "source": [
    "x[1]"
   ]
  },
  {
   "cell_type": "code",
   "execution_count": 75,
   "id": "04879e55",
   "metadata": {},
   "outputs": [
    {
     "data": {
      "text/plain": [
       "'sudh'"
      ]
     },
     "execution_count": 75,
     "metadata": {},
     "output_type": "execute_result"
    }
   ],
   "source": [
    "x[2]"
   ]
  },
  {
   "cell_type": "code",
   "execution_count": 76,
   "id": "4087bd33",
   "metadata": {},
   "outputs": [],
   "source": [
    "a =1 \n",
    "b =2\n",
    "c ='sudh'\n",
    "d =[24,5,4,33]"
   ]
  },
  {
   "cell_type": "code",
   "execution_count": 80,
   "id": "6495a0e1",
   "metadata": {},
   "outputs": [],
   "source": [
    "a,b,c,d= 34,34,53,'fbv'"
   ]
  },
  {
   "cell_type": "code",
   "execution_count": 82,
   "id": "1f973dfb",
   "metadata": {},
   "outputs": [
    {
     "data": {
      "text/plain": [
       "'fbv'"
      ]
     },
     "execution_count": 82,
     "metadata": {},
     "output_type": "execute_result"
    }
   ],
   "source": [
    "d"
   ]
  },
  {
   "cell_type": "code",
   "execution_count": 79,
   "id": "f507092a",
   "metadata": {},
   "outputs": [
    {
     "data": {
      "text/plain": [
       "(4, 3, 'sudh', [1, 2, 3, 4, 5])"
      ]
     },
     "execution_count": 79,
     "metadata": {},
     "output_type": "execute_result"
    }
   ],
   "source": [
    "test5()"
   ]
  },
  {
   "cell_type": "code",
   "execution_count": 83,
   "id": "509b18b2",
   "metadata": {},
   "outputs": [],
   "source": [
    "x,y,u,d, = test5()"
   ]
  },
  {
   "cell_type": "code",
   "execution_count": 85,
   "id": "3457f6c0",
   "metadata": {},
   "outputs": [
    {
     "data": {
      "text/plain": [
       "4"
      ]
     },
     "execution_count": 85,
     "metadata": {},
     "output_type": "execute_result"
    }
   ],
   "source": [
    "x"
   ]
  },
  {
   "cell_type": "code",
   "execution_count": 86,
   "id": "3a6603c4",
   "metadata": {},
   "outputs": [
    {
     "data": {
      "text/plain": [
       "int"
      ]
     },
     "execution_count": 86,
     "metadata": {},
     "output_type": "execute_result"
    }
   ],
   "source": [
    "type(x)"
   ]
  },
  {
   "cell_type": "code",
   "execution_count": 87,
   "id": "5a75c32e",
   "metadata": {},
   "outputs": [
    {
     "data": {
      "text/plain": [
       "3"
      ]
     },
     "execution_count": 87,
     "metadata": {},
     "output_type": "execute_result"
    }
   ],
   "source": [
    "y"
   ]
  },
  {
   "cell_type": "code",
   "execution_count": 88,
   "id": "e63e50ad",
   "metadata": {},
   "outputs": [
    {
     "data": {
      "text/plain": [
       "'sudh'"
      ]
     },
     "execution_count": 88,
     "metadata": {},
     "output_type": "execute_result"
    }
   ],
   "source": [
    "u"
   ]
  },
  {
   "cell_type": "code",
   "execution_count": 89,
   "id": "7554a8ca",
   "metadata": {},
   "outputs": [
    {
     "data": {
      "text/plain": [
       "[1, 2, 3, 4, 5]"
      ]
     },
     "execution_count": 89,
     "metadata": {},
     "output_type": "execute_result"
    }
   ],
   "source": [
    "d"
   ]
  },
  {
   "cell_type": "code",
   "execution_count": 90,
   "id": "f1541ac7",
   "metadata": {},
   "outputs": [],
   "source": [
    "def test6():\n",
    "    a = 6*7/6\n",
    "    return a"
   ]
  },
  {
   "cell_type": "code",
   "execution_count": 91,
   "id": "993c9ab7",
   "metadata": {},
   "outputs": [
    {
     "data": {
      "text/plain": [
       "7.0"
      ]
     },
     "execution_count": 91,
     "metadata": {},
     "output_type": "execute_result"
    }
   ],
   "source": [
    "test6()"
   ]
  },
  {
   "cell_type": "code",
   "execution_count": 93,
   "id": "3a4d8843",
   "metadata": {},
   "outputs": [],
   "source": [
    "l = [3,4,5,6,7,7 ,'vvb', [1,2,3,444,55,]]"
   ]
  },
  {
   "cell_type": "code",
   "execution_count": 122,
   "id": "65345e29",
   "metadata": {},
   "outputs": [],
   "source": [
    "def test7(g):\n",
    "    \"\"\"For defining comment for my fuctiion\n",
    "    i can write here my codes decription\"\"\"\n",
    "    n = []\n",
    "    \n",
    "    if type(g) == list :\n",
    "        for i in g:\n",
    " fgdcxzw            if type(i) == int:\n",
    "                       n.append(i)\n",
    "    return n\n",
    "        \n",
    "    "
   ]
  },
  {
   "cell_type": "code",
   "execution_count": 125,
   "id": "aa16c40d",
   "metadata": {},
   "outputs": [],
   "source": [
    "def vvb(d):\n",
    "    return d"
   ]
  },
  {
   "cell_type": "code",
   "execution_count": 127,
   "id": "a3749126",
   "metadata": {},
   "outputs": [],
   "source": [
    "h=1"
   ]
  },
  {
   "cell_type": "code",
   "execution_count": 128,
   "id": "358dfa22",
   "metadata": {},
   "outputs": [
    {
     "data": {
      "text/plain": [
       "1"
      ]
     },
     "execution_count": 128,
     "metadata": {},
     "output_type": "execute_result"
    }
   ],
   "source": [
    "vvb(h)"
   ]
  },
  {
   "cell_type": "code",
   "execution_count": null,
   "id": "ca170506",
   "metadata": {},
   "outputs": [],
   "source": [
    "test7(f)"
   ]
  },
  {
   "cell_type": "code",
   "execution_count": 118,
   "id": "bcf57ee8",
   "metadata": {},
   "outputs": [],
   "source": [
    "f=[1,2,7,5,7,8,7,[4,5,6]]"
   ]
  },
  {
   "cell_type": "code",
   "execution_count": 115,
   "id": "8160db00",
   "metadata": {},
   "outputs": [
    {
     "data": {
      "text/plain": [
       "list"
      ]
     },
     "execution_count": 115,
     "metadata": {},
     "output_type": "execute_result"
    }
   ],
   "source": [
    "type(f)"
   ]
  },
  {
   "cell_type": "code",
   "execution_count": 119,
   "id": "36073c95",
   "metadata": {},
   "outputs": [
    {
     "ename": "TypeError",
     "evalue": "'int' object is not iterable",
     "output_type": "error",
     "traceback": [
      "\u001b[1;31m---------------------------------------------------------------------------\u001b[0m",
      "\u001b[1;31mTypeError\u001b[0m                                 Traceback (most recent call last)",
      "Cell \u001b[1;32mIn[119], line 1\u001b[0m\n\u001b[1;32m----> 1\u001b[0m \u001b[43mtest7\u001b[49m\u001b[43m(\u001b[49m\u001b[43mf\u001b[49m\u001b[43m)\u001b[49m\n",
      "Cell \u001b[1;32mIn[117], line 7\u001b[0m, in \u001b[0;36mtest7\u001b[1;34m(g)\u001b[0m\n\u001b[0;32m      4\u001b[0m n \u001b[38;5;241m=\u001b[39m []\n\u001b[0;32m      6\u001b[0m \u001b[38;5;28;01mif\u001b[39;00m \u001b[38;5;28mtype\u001b[39m(g) \u001b[38;5;241m==\u001b[39m \u001b[38;5;28mlist\u001b[39m :\n\u001b[1;32m----> 7\u001b[0m     \u001b[38;5;28;01mfor\u001b[39;00m i \u001b[38;5;129;01min\u001b[39;00m a:\n\u001b[0;32m      8\u001b[0m         \u001b[38;5;28;01mif\u001b[39;00m \u001b[38;5;28mtype\u001b[39m(i) \u001b[38;5;241m==\u001b[39m \u001b[38;5;28mint\u001b[39m:\n\u001b[0;32m      9\u001b[0m                    n\u001b[38;5;241m.\u001b[39mappend(i)\n",
      "\u001b[1;31mTypeError\u001b[0m: 'int' object is not iterable"
     ]
    }
   ],
   "source": [
    "test7(f)"
   ]
  },
  {
   "cell_type": "code",
   "execution_count": 111,
   "id": "34dbf723",
   "metadata": {},
   "outputs": [
    {
     "data": {
      "text/plain": [
       "list"
      ]
     },
     "execution_count": 111,
     "metadata": {},
     "output_type": "execute_result"
    }
   ],
   "source": [
    "type(test7(f))"
   ]
  },
  {
   "cell_type": "code",
   "execution_count": 36,
   "id": "72c3725d",
   "metadata": {},
   "outputs": [],
   "source": [
    "#test7([5,48,5,56,'vvb',(94,565,345)])"
   ]
  },
  {
   "cell_type": "code",
   "execution_count": 52,
   "id": "04d567ed",
   "metadata": {},
   "outputs": [],
   "source": [
    "def test8(c):\n",
    "    \n",
    "     if type(c)==dict:\n",
    "            return c.keys()\n",
    "     else:\n",
    "        return \"either of your data is not list\"\n"
   ]
  },
  {
   "cell_type": "code",
   "execution_count": 37,
   "id": "c0fd54b4",
   "metadata": {},
   "outputs": [],
   "source": [
    "#test8(5)"
   ]
  },
  {
   "cell_type": "code",
   "execution_count": 38,
   "id": "310ad8d3",
   "metadata": {},
   "outputs": [],
   "source": [
    "#test8({'s':5})"
   ]
  },
  {
   "cell_type": "code",
   "execution_count": 39,
   "id": "293ba451",
   "metadata": {},
   "outputs": [],
   "source": [
    "#help(test7)"
   ]
  },
  {
   "cell_type": "code",
   "execution_count": 57,
   "id": "b4653eb4",
   "metadata": {},
   "outputs": [],
   "source": [
    "def test9(a, b):\n",
    "    if type(a)== list and type(b) == list:\n",
    "        a.extend(b)\n",
    "        return a\n",
    "    else :\n",
    "        return 'either your data is not list'"
   ]
  },
  {
   "cell_type": "code",
   "execution_count": 40,
   "id": "c579ebcd",
   "metadata": {},
   "outputs": [],
   "source": [
    "#test9(7,5)"
   ]
  },
  {
   "cell_type": "code",
   "execution_count": 41,
   "id": "1e5bae63",
   "metadata": {},
   "outputs": [],
   "source": [
    "#test9([4,564,'vaibhav'], ['IANT', 'class', 4j])"
   ]
  },
  {
   "cell_type": "code",
   "execution_count": 62,
   "id": "33c6c4b9",
   "metadata": {},
   "outputs": [],
   "source": [
    "a = [2,3,4,5,6]\n",
    "b = [3,56,7,3,55]"
   ]
  },
  {
   "cell_type": "code",
   "execution_count": 43,
   "id": "31221b3d",
   "metadata": {},
   "outputs": [],
   "source": [
    "#test9(a,b)"
   ]
  },
  {
   "cell_type": "code",
   "execution_count": 44,
   "id": "6740e54c",
   "metadata": {},
   "outputs": [],
   "source": [
    "#a"
   ]
  },
  {
   "cell_type": "code",
   "execution_count": 45,
   "id": "a94ee06a",
   "metadata": {},
   "outputs": [],
   "source": [
    "#b"
   ]
  },
  {
   "cell_type": "code",
   "execution_count": null,
   "id": "b16cf3a3",
   "metadata": {},
   "outputs": [],
   "source": []
  }
 ],
 "metadata": {
  "kernelspec": {
   "display_name": "Python 3 (ipykernel)",
   "language": "python",
   "name": "python3"
  },
  "language_info": {
   "codemirror_mode": {
    "name": "ipython",
    "version": 3
   },
   "file_extension": ".py",
   "mimetype": "text/x-python",
   "name": "python",
   "nbconvert_exporter": "python",
   "pygments_lexer": "ipython3",
   "version": "3.10.9"
  }
 },
 "nbformat": 4,
 "nbformat_minor": 5
}
