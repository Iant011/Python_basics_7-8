{
 "cells": [
  {
   "cell_type": "code",
   "execution_count": 1,
   "id": "69ea6517",
   "metadata": {},
   "outputs": [],
   "source": [
    "a = 5"
   ]
  },
  {
   "cell_type": "code",
   "execution_count": 3,
   "id": "0856ebfe",
   "metadata": {},
   "outputs": [
    {
     "name": "stdout",
     "output_type": "stream",
     "text": [
      "No\n"
     ]
    }
   ],
   "source": [
    "if a < 2:\n",
    "    print('Hello')\n",
    "else:\n",
    "    print('No')"
   ]
  },
  {
   "cell_type": "code",
   "execution_count": 5,
   "id": "d61d49d4",
   "metadata": {},
   "outputs": [
    {
     "name": "stdout",
     "output_type": "stream",
     "text": [
      "Hello\n"
     ]
    }
   ],
   "source": [
    "if a < 10:\n",
    "    print('Hello')\n",
    "else:\n",
    "    print('No')"
   ]
  },
  {
   "cell_type": "code",
   "execution_count": 6,
   "id": "05698a63",
   "metadata": {},
   "outputs": [
    {
     "name": "stdout",
     "output_type": "stream",
     "text": [
      "No\n"
     ]
    }
   ],
   "source": [
    "if 10 > 20: \n",
    "    print(\"Hello\")\n",
    "    \n",
    "else:\n",
    "    print('No')"
   ]
  },
  {
   "cell_type": "code",
   "execution_count": 7,
   "id": "c7166e12",
   "metadata": {},
   "outputs": [
    {
     "name": "stdout",
     "output_type": "stream",
     "text": [
      "Hello\n"
     ]
    }
   ],
   "source": [
    "if 21 > 20: \n",
    "    print(\"Hello\")\n",
    "    \n",
    "else:\n",
    "    print('No')"
   ]
  },
  {
   "cell_type": "code",
   "execution_count": 10,
   "id": "de413911",
   "metadata": {},
   "outputs": [
    {
     "name": "stdout",
     "output_type": "stream",
     "text": [
      "Hello_1\n"
     ]
    }
   ],
   "source": [
    "if 19 > 20: \n",
    "    print(\"Hello\")\n",
    "\n",
    "elif 21 > 20:\n",
    "    print('Hello_1')\n",
    "    \n",
    "else:\n",
    "    print('No')"
   ]
  },
  {
   "cell_type": "code",
   "execution_count": 11,
   "id": "3daead6e",
   "metadata": {},
   "outputs": [
    {
     "name": "stdout",
     "output_type": "stream",
     "text": [
      "No\n"
     ]
    }
   ],
   "source": [
    "if 19 > 20: \n",
    "    print(\"Hello\")\n",
    "\n",
    "elif 5 > 20:\n",
    "    print('Hello_1')\n",
    "    \n",
    "else:\n",
    "    print('No')"
   ]
  },
  {
   "cell_type": "code",
   "execution_count": 14,
   "id": "43172a3b",
   "metadata": {},
   "outputs": [
    {
     "name": "stdout",
     "output_type": "stream",
     "text": [
      "15\n",
      "Wrong\n"
     ]
    }
   ],
   "source": [
    "a = int(input())\n",
    "\n",
    "if a < 10:\n",
    "    print(\"Right\")\n",
    "    \n",
    "else:\n",
    "    print(\"Wrong\")"
   ]
  },
  {
   "cell_type": "code",
   "execution_count": 16,
   "id": "9f568e75",
   "metadata": {},
   "outputs": [
    {
     "name": "stdout",
     "output_type": "stream",
     "text": [
      "10\n",
      "a is Less than 20\n"
     ]
    }
   ],
   "source": [
    "a = int(input())\n",
    "\n",
    "if a < 10:\n",
    "    print(\"a is Less than 10\")\n",
    "    \n",
    "elif a < 20:\n",
    "    print(\"a is Less than 20\")\n",
    "    \n",
    "else:\n",
    "    print(\"Wrong\")"
   ]
  },
  {
   "cell_type": "code",
   "execution_count": 17,
   "id": "6d2d4de9",
   "metadata": {},
   "outputs": [
    {
     "name": "stdout",
     "output_type": "stream",
     "text": [
      "5\n",
      "a is Less than 10\n"
     ]
    }
   ],
   "source": [
    "a = int(input())\n",
    "\n",
    "if a < 10:\n",
    "    print(\"a is Less than 10\")\n",
    "    \n",
    "elif a < 20:\n",
    "    print(\"a is Less than 20\")\n",
    "    \n",
    "elif a < 30:\n",
    "    print('a is less than 30')\n",
    "    \n",
    "else:\n",
    "    print(\"Wrong\")"
   ]
  },
  {
   "cell_type": "code",
   "execution_count": null,
   "id": "70f11942",
   "metadata": {},
   "outputs": [],
   "source": []
  }
 ],
 "metadata": {
  "kernelspec": {
   "display_name": "Python 3 (ipykernel)",
   "language": "python",
   "name": "python3"
  },
  "language_info": {
   "codemirror_mode": {
    "name": "ipython",
    "version": 3
   },
   "file_extension": ".py",
   "mimetype": "text/x-python",
   "name": "python",
   "nbconvert_exporter": "python",
   "pygments_lexer": "ipython3",
   "version": "3.10.9"
  }
 },
 "nbformat": 4,
 "nbformat_minor": 5
}
