{
 "cells": [
  {
   "cell_type": "code",
   "execution_count": 3,
   "id": "4fc4bab4",
   "metadata": {},
   "outputs": [],
   "source": [
    "def test (a,b,c,d,e):\n",
    "    return a,b,c,d,e"
   ]
  },
  {
   "cell_type": "code",
   "execution_count": 4,
   "id": "7b79627c",
   "metadata": {},
   "outputs": [
    {
     "data": {
      "text/plain": [
       "(15, 55, 89, 8, 8)"
      ]
     },
     "execution_count": 4,
     "metadata": {},
     "output_type": "execute_result"
    }
   ],
   "source": [
    "test(15,55,89,8,8)"
   ]
  },
  {
   "cell_type": "code",
   "execution_count": 5,
   "id": "1cc48e9b",
   "metadata": {},
   "outputs": [],
   "source": [
    "def test1(*args):\n",
    "    return args"
   ]
  },
  {
   "cell_type": "code",
   "execution_count": 6,
   "id": "6e051409",
   "metadata": {},
   "outputs": [
    {
     "data": {
      "text/plain": [
       "(5, 33, 56, 3, 2, 'dfgg', 3j, 6, 6865)"
      ]
     },
     "execution_count": 6,
     "metadata": {},
     "output_type": "execute_result"
    }
   ],
   "source": [
    "test1(5,33,56,3,2,'dfgg',3j,6,6865)          #anything in tuple"
   ]
  },
  {
   "cell_type": "code",
   "execution_count": 7,
   "id": "2b13620d",
   "metadata": {},
   "outputs": [
    {
     "data": {
      "text/plain": [
       "(4, 553, [4, 64, 'gh'], 4, 47, 7j)"
      ]
     },
     "execution_count": 7,
     "metadata": {},
     "output_type": "execute_result"
    }
   ],
   "source": [
    "test1(4,553,[4,64,'gh'],4,47,7j)"
   ]
  },
  {
   "cell_type": "code",
   "execution_count": 8,
   "id": "5e0bc4a9",
   "metadata": {},
   "outputs": [],
   "source": [
    "def test2(*vaibhav):                  #can write by anything\n",
    "    return vaibhav"
   ]
  },
  {
   "cell_type": "code",
   "execution_count": 9,
   "id": "2d963120",
   "metadata": {},
   "outputs": [
    {
     "data": {
      "text/plain": [
       "(99, 4, 24, 5)"
      ]
     },
     "execution_count": 9,
     "metadata": {},
     "output_type": "execute_result"
    }
   ],
   "source": [
    "test2(99,4,24,5)"
   ]
  },
  {
   "cell_type": "code",
   "execution_count": 10,
   "id": "73a631e5",
   "metadata": {},
   "outputs": [
    {
     "data": {
      "text/plain": [
       "('vvb', 33.53, 3j)"
      ]
     },
     "execution_count": 10,
     "metadata": {},
     "output_type": "execute_result"
    }
   ],
   "source": [
    "test2('vvb',33.53,3j)"
   ]
  },
  {
   "cell_type": "code",
   "execution_count": 11,
   "id": "51a59e88",
   "metadata": {},
   "outputs": [],
   "source": [
    "def test3(*vaibhav, a):\n",
    "    return vaibhav, a\n",
    "    "
   ]
  },
  {
   "cell_type": "code",
   "execution_count": 12,
   "id": "b2c7afee",
   "metadata": {},
   "outputs": [
    {
     "data": {
      "text/plain": [
       "((4, 35, 63, 525, 6585643), 'vvb')"
      ]
     },
     "execution_count": 12,
     "metadata": {},
     "output_type": "execute_result"
    }
   ],
   "source": [
    "test3(4,35,63,525,6585643, a='vvb')"
   ]
  },
  {
   "cell_type": "code",
   "execution_count": 13,
   "id": "80c5de4b",
   "metadata": {},
   "outputs": [],
   "source": [
    "def test4(*vaibhav, a,b,c,d):\n",
    "    return vaibhav, a,b,c,d"
   ]
  },
  {
   "cell_type": "code",
   "execution_count": 15,
   "id": "686fc36e",
   "metadata": {},
   "outputs": [
    {
     "data": {
      "text/plain": [
       "((1, 5, 56, 4, 643), 4, 6, 4, 6)"
      ]
     },
     "execution_count": 15,
     "metadata": {},
     "output_type": "execute_result"
    }
   ],
   "source": [
    "test4(1,5,56,4,643, a=4, b=6, c=4, d=6)"
   ]
  },
  {
   "cell_type": "code",
   "execution_count": 16,
   "id": "cecf210d",
   "metadata": {},
   "outputs": [
    {
     "ename": "TypeError",
     "evalue": "test4() got an unexpected keyword argument 'x'",
     "output_type": "error",
     "traceback": [
      "\u001b[1;31m---------------------------------------------------------------------------\u001b[0m",
      "\u001b[1;31mTypeError\u001b[0m                                 Traceback (most recent call last)",
      "Cell \u001b[1;32mIn[16], line 1\u001b[0m\n\u001b[1;32m----> 1\u001b[0m \u001b[43mtest4\u001b[49m\u001b[43m(\u001b[49m\u001b[38;5;241;43m1\u001b[39;49m\u001b[43m,\u001b[49m\u001b[38;5;241;43m58\u001b[39;49m\u001b[43m,\u001b[49m\u001b[38;5;241;43m9\u001b[39;49m\u001b[43m,\u001b[49m\u001b[38;5;241;43m55\u001b[39;49m\u001b[43m,\u001b[49m\u001b[38;5;241;43m7\u001b[39;49m\u001b[43m,\u001b[49m\u001b[43mx\u001b[49m\u001b[38;5;241;43m=\u001b[39;49m\u001b[38;5;241;43m5\u001b[39;49m\u001b[43m,\u001b[49m\u001b[43mg\u001b[49m\u001b[38;5;241;43m=\u001b[39;49m\u001b[38;5;241;43m7\u001b[39;49m\u001b[43m,\u001b[49m\u001b[43mo\u001b[49m\u001b[38;5;241;43m=\u001b[39;49m\u001b[38;5;241;43m6\u001b[39;49m\u001b[43m,\u001b[49m\u001b[43mk\u001b[49m\u001b[38;5;241;43m=\u001b[39;49m\u001b[38;5;241;43m5\u001b[39;49m\u001b[43m)\u001b[49m\n",
      "\u001b[1;31mTypeError\u001b[0m: test4() got an unexpected keyword argument 'x'"
     ]
    }
   ],
   "source": [
    "test4(1,58,9,55,7,x=5,g=7,o=6,k=5)"
   ]
  },
  {
   "cell_type": "code",
   "execution_count": 17,
   "id": "0d097ad7",
   "metadata": {},
   "outputs": [
    {
     "data": {
      "text/plain": [
       "((3453, 53, [334, 4346, 335, 6]), [56, 75, 34], 456, [54, 656, 9j], 4)"
      ]
     },
     "execution_count": 17,
     "metadata": {},
     "output_type": "execute_result"
    }
   ],
   "source": [
    "test4(3453,53,[334,4346,335,6], a=[56,75,34], b=456, c=[54,656,9j], d=4)"
   ]
  },
  {
   "cell_type": "code",
   "execution_count": 20,
   "id": "60c9d5b5",
   "metadata": {},
   "outputs": [],
   "source": [
    "def test3(a, *vaibhav):\n",
    "    return a, vaibhav"
   ]
  },
  {
   "cell_type": "code",
   "execution_count": 21,
   "id": "ce6ef0de",
   "metadata": {},
   "outputs": [
    {
     "data": {
      "text/plain": [
       "(10, (65, 55, 77, 336))"
      ]
     },
     "execution_count": 21,
     "metadata": {},
     "output_type": "execute_result"
    }
   ],
   "source": [
    "test3(10,65,55,77,336)"
   ]
  },
  {
   "cell_type": "code",
   "execution_count": 19,
   "id": "0db1f346",
   "metadata": {},
   "outputs": [
    {
     "data": {
      "text/plain": [
       "([45.6, 754.7, 53], (1, 3, 4, 5, 6, 6))"
      ]
     },
     "execution_count": 19,
     "metadata": {},
     "output_type": "execute_result"
    }
   ],
   "source": [
    "test3([45.6,754.7,53,], 1,3,4,5,6,6)         #we an here assign atomatically number if write as first but not for last"
   ]
  },
  {
   "cell_type": "code",
   "execution_count": null,
   "id": "82fd26e5",
   "metadata": {},
   "outputs": [],
   "source": [
    "def test5(a, *vaibhav, b, c):\n",
    "    return a, vaibhav, b,c"
   ]
  },
  {
   "cell_type": "code",
   "execution_count": null,
   "id": "5bd67b89",
   "metadata": {},
   "outputs": [],
   "source": [
    "test5('rock', 1,2,3,4, b= 'hodale', c = 'vvbb')   #multiple assigning "
   ]
  },
  {
   "cell_type": "code",
   "execution_count": null,
   "id": "79c3df85",
   "metadata": {},
   "outputs": [],
   "source": [
    "def test6(*args):\n",
    "    l = []\n",
    "    for i in args:\n",
    "        if type(i) == list:\n",
    "            l.append(i)\n",
    "    return l"
   ]
  },
  {
   "cell_type": "code",
   "execution_count": null,
   "id": "b52eeafa",
   "metadata": {},
   "outputs": [],
   "source": [
    "test6(3,4,3,[4,5,2,],[444.3],332)"
   ]
  },
  {
   "cell_type": "code",
   "execution_count": null,
   "id": "69eada53",
   "metadata": {},
   "outputs": [],
   "source": [
    "D = {'A' : [2,3,4,5,6], 6 : [55,33,3,66,7,33]}"
   ]
  },
  {
   "cell_type": "code",
   "execution_count": null,
   "id": "48328e31",
   "metadata": {},
   "outputs": [],
   "source": [
    "D['A']"
   ]
  },
  {
   "cell_type": "code",
   "execution_count": null,
   "id": "d533fec0",
   "metadata": {},
   "outputs": [],
   "source": [
    "def test7(**kwargs):            #note down **kwargs ##it is going to write in dect{{}}\n",
    "    return kwargs"
   ]
  },
  {
   "cell_type": "code",
   "execution_count": null,
   "id": "5554f3ad",
   "metadata": {},
   "outputs": [],
   "source": [
    "test7(a=44, b=44, c= 53.35, e= 9j)"
   ]
  },
  {
   "cell_type": "code",
   "execution_count": null,
   "id": "ed3c5ccc",
   "metadata": {},
   "outputs": [],
   "source": [
    "def test8(**vaibhav):\n",
    "    return vaibhav"
   ]
  },
  {
   "cell_type": "code",
   "execution_count": null,
   "id": "cd21dbde",
   "metadata": {},
   "outputs": [],
   "source": [
    "test8(v=42, b=40)"
   ]
  },
  {
   "cell_type": "code",
   "execution_count": null,
   "id": "417fa398",
   "metadata": {},
   "outputs": [],
   "source": [
    "test8(a=['vvb', 5454,33], x=353)"
   ]
  },
  {
   "cell_type": "code",
   "execution_count": null,
   "id": "beeae240",
   "metadata": {},
   "outputs": [],
   "source": [
    "def test9(**vaibhav):\n",
    "    return vaibhav"
   ]
  },
  {
   "cell_type": "code",
   "execution_count": null,
   "id": "41e137b2",
   "metadata": {},
   "outputs": [],
   "source": [
    "test9(name='vaibhav', surname = 'bhosale')"
   ]
  },
  {
   "cell_type": "code",
   "execution_count": null,
   "id": "a00642b8",
   "metadata": {},
   "outputs": [],
   "source": [
    "def test10(a, **vaibhav):\n",
    "    return a, vaibhav"
   ]
  },
  {
   "cell_type": "code",
   "execution_count": null,
   "id": "be838934",
   "metadata": {},
   "outputs": [],
   "source": [
    "test10(2, ac=1,  b=3, c=44)"
   ]
  },
  {
   "cell_type": "code",
   "execution_count": null,
   "id": "030cd64e",
   "metadata": {},
   "outputs": [],
   "source": [
    "def test11(a, **sudh ,*sudh):   # both arugs and kwargs not going to work at time\n",
    "    return a, sudh,sudh"
   ]
  },
  {
   "cell_type": "code",
   "execution_count": null,
   "id": "4cbddb5b",
   "metadata": {},
   "outputs": [],
   "source": [
    "def test12(a, *args, **kwargs):\n",
    "    return a, args, kwargs"
   ]
  },
  {
   "cell_type": "code",
   "execution_count": null,
   "id": "a48c4093",
   "metadata": {},
   "outputs": [],
   "source": [
    "test12(11, 3445,5354,[34,53,8j], s='surname', gmail= 'v@gmail.com', price =20)"
   ]
  },
  {
   "cell_type": "code",
   "execution_count": null,
   "id": "4404960d",
   "metadata": {},
   "outputs": [],
   "source": [
    "def test13(a,b):\n",
    "    return a*b"
   ]
  },
  {
   "cell_type": "code",
   "execution_count": null,
   "id": "05a33f21",
   "metadata": {},
   "outputs": [],
   "source": [
    "test13(10,10) "
   ]
  },
  {
   "cell_type": "code",
   "execution_count": null,
   "id": "86b761e3",
   "metadata": {},
   "outputs": [],
   "source": [
    "lambda *a:a"
   ]
  },
  {
   "cell_type": "code",
   "execution_count": null,
   "id": "4abbcba6",
   "metadata": {},
   "outputs": [],
   "source": [
    "a = lambda *a:a"
   ]
  },
  {
   "cell_type": "code",
   "execution_count": null,
   "id": "5b9a7bed",
   "metadata": {},
   "outputs": [],
   "source": [
    "a(34,43,344)"
   ]
  },
  {
   "cell_type": "code",
   "execution_count": null,
   "id": "5a180eaa",
   "metadata": {},
   "outputs": [],
   "source": [
    "x =lambda *a: a*a"
   ]
  },
  {
   "cell_type": "code",
   "execution_count": null,
   "id": "a62d0941",
   "metadata": {},
   "outputs": [],
   "source": [
    "x(5,3)"
   ]
  },
  {
   "cell_type": "code",
   "execution_count": null,
   "id": "57c94972",
   "metadata": {},
   "outputs": [],
   "source": [
    "v =lambda *i: i**2"
   ]
  },
  {
   "cell_type": "code",
   "execution_count": null,
   "id": "9059a5b1",
   "metadata": {},
   "outputs": [],
   "source": [
    "v(4)"
   ]
  },
  {
   "cell_type": "code",
   "execution_count": null,
   "id": "7a2037ac",
   "metadata": {},
   "outputs": [],
   "source": [
    "a = lambda a,b :(a*b, a+b)"
   ]
  },
  {
   "cell_type": "code",
   "execution_count": null,
   "id": "1f51c044",
   "metadata": {},
   "outputs": [],
   "source": [
    "x=lambda x: (for i in x: print(i))    #wr"
   ]
  },
  {
   "cell_type": "code",
   "execution_count": null,
   "id": "9bee497a",
   "metadata": {},
   "outputs": [],
   "source": [
    "x = lambda x :[i for i in x]"
   ]
  },
  {
   "cell_type": "code",
   "execution_count": null,
   "id": "8b8a2e7b",
   "metadata": {},
   "outputs": [],
   "source": [
    "x([34,45])"
   ]
  },
  {
   "cell_type": "code",
   "execution_count": null,
   "id": "891ce119",
   "metadata": {},
   "outputs": [],
   "source": [
    "a = lambda **kwargs: kwargs"
   ]
  },
  {
   "cell_type": "code",
   "execution_count": null,
   "id": "bfdeb267",
   "metadata": {},
   "outputs": [],
   "source": [
    "a(a=3, b=44)"
   ]
  },
  {
   "cell_type": "code",
   "execution_count": null,
   "id": "c63c8127",
   "metadata": {},
   "outputs": [],
   "source": [
    "c = 20\n",
    "def test16(c,d):\n",
    "    c =4\n",
    "    return c*d"
   ]
  },
  {
   "cell_type": "code",
   "execution_count": null,
   "id": "affb47a8",
   "metadata": {},
   "outputs": [],
   "source": [
    "test16(1,10)"
   ]
  },
  {
   "cell_type": "code",
   "execution_count": null,
   "id": "38e0331a",
   "metadata": {},
   "outputs": [],
   "source": [
    "c"
   ]
  },
  {
   "cell_type": "code",
   "execution_count": null,
   "id": "73add1e0",
   "metadata": {},
   "outputs": [],
   "source": [
    "l=[1,4,5,6,7,3,4]\n",
    "l1=[]\n",
    "for i in l:\n",
    "    l1.append(i+10)"
   ]
  },
  {
   "cell_type": "code",
   "execution_count": null,
   "id": "0ca8e083",
   "metadata": {},
   "outputs": [],
   "source": [
    "l1"
   ]
  },
  {
   "cell_type": "code",
   "execution_count": null,
   "id": "3b25e254",
   "metadata": {},
   "outputs": [],
   "source": [
    "def test17(a):\n",
    "    l1 = []\n",
    "    for i in a :\n",
    "        l1.append(i+10)\n",
    "    return l1"
   ]
  },
  {
   "cell_type": "code",
   "execution_count": null,
   "id": "a5578b6c",
   "metadata": {},
   "outputs": [],
   "source": [
    "test17(l)"
   ]
  },
  {
   "cell_type": "code",
   "execution_count": null,
   "id": "fdd84e25",
   "metadata": {},
   "outputs": [],
   "source": [
    "l"
   ]
  },
  {
   "cell_type": "code",
   "execution_count": null,
   "id": "1c375ae5",
   "metadata": {},
   "outputs": [],
   "source": [
    "def test17(a):\n",
    "    l1 = []\n",
    "    for i in a:\n",
    "        l1.append(i+2)\n",
    "    return l1\n",
    "        "
   ]
  },
  {
   "cell_type": "code",
   "execution_count": null,
   "id": "1820dcd6",
   "metadata": {},
   "outputs": [],
   "source": [
    "test17(l)"
   ]
  },
  {
   "cell_type": "code",
   "execution_count": null,
   "id": "8f1f9c88",
   "metadata": {},
   "outputs": [],
   "source": [
    "l = [2,3,4,5]"
   ]
  },
  {
   "cell_type": "code",
   "execution_count": null,
   "id": "23351a9f",
   "metadata": {},
   "outputs": [],
   "source": [
    "test17(l)"
   ]
  },
  {
   "cell_type": "code",
   "execution_count": null,
   "id": "705fbb99",
   "metadata": {},
   "outputs": [],
   "source": [
    "[(i**2, i+i) for i in l if i<4 if i > 1]"
   ]
  },
  {
   "cell_type": "code",
   "execution_count": null,
   "id": "623d133a",
   "metadata": {},
   "outputs": [],
   "source": [
    "test17(l)"
   ]
  },
  {
   "cell_type": "code",
   "execution_count": null,
   "id": "fd965323",
   "metadata": {},
   "outputs": [],
   "source": [
    "test17(l)"
   ]
  },
  {
   "cell_type": "code",
   "execution_count": null,
   "id": "f244accd",
   "metadata": {},
   "outputs": [],
   "source": [
    "test17(l)"
   ]
  },
  {
   "cell_type": "code",
   "execution_count": null,
   "id": "78c5e3a4",
   "metadata": {},
   "outputs": [],
   "source": [
    "l=[1,4,5,6,7,3,4]"
   ]
  },
  {
   "cell_type": "code",
   "execution_count": null,
   "id": "6aa685ee",
   "metadata": {},
   "outputs": [],
   "source": [
    "l1=[]\n",
    "for i in l: \n",
    "    if i<4:\n",
    "        l1.append((i**2, i+1))\n",
    "    "
   ]
  },
  {
   "cell_type": "code",
   "execution_count": null,
   "id": "db283d35",
   "metadata": {},
   "outputs": [],
   "source": [
    "l1"
   ]
  },
  {
   "cell_type": "code",
   "execution_count": null,
   "id": "63742a4d",
   "metadata": {},
   "outputs": [],
   "source": [
    "d = {1:1, 2:4, 3:9}"
   ]
  },
  {
   "cell_type": "code",
   "execution_count": null,
   "id": "7a94c2fc",
   "metadata": {},
   "outputs": [],
   "source": [
    "{i:i**2 for i in range (11)}"
   ]
  },
  {
   "cell_type": "code",
   "execution_count": null,
   "id": "613b8497",
   "metadata": {},
   "outputs": [],
   "source": [
    "d1 ={}\n",
    "for i in range(11) :\n",
    "    d1[i] = i**2"
   ]
  },
  {
   "cell_type": "code",
   "execution_count": null,
   "id": "b4d93ed0",
   "metadata": {},
   "outputs": [],
   "source": [
    "d1"
   ]
  },
  {
   "cell_type": "code",
   "execution_count": null,
   "id": "7b253222",
   "metadata": {},
   "outputs": [],
   "source": [
    "tuple(i for i in range(10))"
   ]
  },
  {
   "cell_type": "code",
   "execution_count": null,
   "id": "d727fcf1",
   "metadata": {},
   "outputs": [],
   "source": [
    "a = 56                       #iterable  ### int' object is not iterable\n",
    "for i in a:\n",
    "    print(i)"
   ]
  },
  {
   "cell_type": "code",
   "execution_count": null,
   "id": "35ef8dba",
   "metadata": {},
   "outputs": [],
   "source": [
    "s = 'sudh'                 ###str object is not an iterator\n",
    "for i in s: \n",
    "    print(i)"
   ]
  },
  {
   "cell_type": "code",
   "execution_count": null,
   "id": "6ee69bab",
   "metadata": {},
   "outputs": [],
   "source": [
    "next(s)"
   ]
  },
  {
   "cell_type": "code",
   "execution_count": null,
   "id": "cd4e476a",
   "metadata": {},
   "outputs": [],
   "source": []
  },
  {
   "cell_type": "code",
   "execution_count": null,
   "id": "7940e193",
   "metadata": {},
   "outputs": [],
   "source": []
  },
  {
   "cell_type": "code",
   "execution_count": null,
   "id": "a3f0b965",
   "metadata": {},
   "outputs": [],
   "source": []
  },
  {
   "cell_type": "code",
   "execution_count": null,
   "id": "c2ef28eb",
   "metadata": {},
   "outputs": [],
   "source": []
  },
  {
   "cell_type": "code",
   "execution_count": null,
   "id": "bff7b972",
   "metadata": {},
   "outputs": [],
   "source": []
  },
  {
   "cell_type": "code",
   "execution_count": null,
   "id": "4684dd11",
   "metadata": {},
   "outputs": [],
   "source": []
  },
  {
   "cell_type": "code",
   "execution_count": null,
   "id": "324f9f17",
   "metadata": {},
   "outputs": [],
   "source": []
  },
  {
   "cell_type": "code",
   "execution_count": null,
   "id": "49f00f07",
   "metadata": {},
   "outputs": [],
   "source": []
  },
  {
   "cell_type": "code",
   "execution_count": null,
   "id": "2e92b715",
   "metadata": {},
   "outputs": [],
   "source": []
  },
  {
   "cell_type": "code",
   "execution_count": null,
   "id": "020070c4",
   "metadata": {},
   "outputs": [],
   "source": []
  },
  {
   "cell_type": "code",
   "execution_count": null,
   "id": "880d714c",
   "metadata": {},
   "outputs": [],
   "source": []
  },
  {
   "cell_type": "code",
   "execution_count": null,
   "id": "d7671313",
   "metadata": {},
   "outputs": [],
   "source": []
  },
  {
   "cell_type": "code",
   "execution_count": null,
   "id": "41b5cfe0",
   "metadata": {},
   "outputs": [],
   "source": []
  },
  {
   "cell_type": "code",
   "execution_count": null,
   "id": "949275cf",
   "metadata": {},
   "outputs": [],
   "source": []
  },
  {
   "cell_type": "code",
   "execution_count": null,
   "id": "963b9a61",
   "metadata": {},
   "outputs": [],
   "source": []
  },
  {
   "cell_type": "code",
   "execution_count": null,
   "id": "d0635d1c",
   "metadata": {},
   "outputs": [],
   "source": []
  },
  {
   "cell_type": "code",
   "execution_count": null,
   "id": "df4ac1c4",
   "metadata": {},
   "outputs": [],
   "source": []
  },
  {
   "cell_type": "code",
   "execution_count": null,
   "id": "90126fb1",
   "metadata": {},
   "outputs": [],
   "source": []
  },
  {
   "cell_type": "code",
   "execution_count": null,
   "id": "54c07d26",
   "metadata": {},
   "outputs": [],
   "source": []
  },
  {
   "cell_type": "code",
   "execution_count": null,
   "id": "c2b4f9d4",
   "metadata": {},
   "outputs": [],
   "source": []
  },
  {
   "cell_type": "code",
   "execution_count": null,
   "id": "cddf7fc4",
   "metadata": {},
   "outputs": [],
   "source": []
  },
  {
   "cell_type": "code",
   "execution_count": null,
   "id": "864a3779",
   "metadata": {},
   "outputs": [],
   "source": []
  },
  {
   "cell_type": "code",
   "execution_count": null,
   "id": "c0c5bccd",
   "metadata": {},
   "outputs": [],
   "source": []
  },
  {
   "cell_type": "code",
   "execution_count": null,
   "id": "e0d95e38",
   "metadata": {},
   "outputs": [],
   "source": []
  }
 ],
 "metadata": {
  "kernelspec": {
   "display_name": "Python 3 (ipykernel)",
   "language": "python",
   "name": "python3"
  },
  "language_info": {
   "codemirror_mode": {
    "name": "ipython",
    "version": 3
   },
   "file_extension": ".py",
   "mimetype": "text/x-python",
   "name": "python",
   "nbconvert_exporter": "python",
   "pygments_lexer": "ipython3",
   "version": "3.10.9"
  }
 },
 "nbformat": 4,
 "nbformat_minor": 5
}
